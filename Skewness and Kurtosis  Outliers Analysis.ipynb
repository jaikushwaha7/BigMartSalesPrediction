{
 "cells": [
  {
   "cell_type": "code",
   "execution_count": 1,
   "metadata": {},
   "outputs": [],
   "source": [
    "import featuretools as ft\n",
    "import numpy as np\n",
    "import pandas as pd\n",
    "\n",
    "train = pd.read_csv(\"train_v9rqX0R.csv\")\n",
    "test = pd.read_csv(\"test_AbJTz2l.csv\")"
   ]
  },
  {
   "cell_type": "code",
   "execution_count": 2,
   "metadata": {},
   "outputs": [
    {
     "data": {
      "text/html": [
       "<div>\n",
       "<style scoped>\n",
       "    .dataframe tbody tr th:only-of-type {\n",
       "        vertical-align: middle;\n",
       "    }\n",
       "\n",
       "    .dataframe tbody tr th {\n",
       "        vertical-align: top;\n",
       "    }\n",
       "\n",
       "    .dataframe thead th {\n",
       "        text-align: right;\n",
       "    }\n",
       "</style>\n",
       "<table border=\"1\" class=\"dataframe\">\n",
       "  <thead>\n",
       "    <tr style=\"text-align: right;\">\n",
       "      <th></th>\n",
       "      <th>Item_Identifier</th>\n",
       "      <th>Item_Weight</th>\n",
       "      <th>Item_Fat_Content</th>\n",
       "      <th>Item_Visibility</th>\n",
       "      <th>Item_Type</th>\n",
       "      <th>Item_MRP</th>\n",
       "      <th>Outlet_Identifier</th>\n",
       "      <th>Outlet_Establishment_Year</th>\n",
       "      <th>Outlet_Size</th>\n",
       "      <th>Outlet_Location_Type</th>\n",
       "      <th>Outlet_Type</th>\n",
       "      <th>Item_Outlet_Sales</th>\n",
       "    </tr>\n",
       "  </thead>\n",
       "  <tbody>\n",
       "    <tr>\n",
       "      <th>0</th>\n",
       "      <td>FDA15</td>\n",
       "      <td>9.30</td>\n",
       "      <td>Low Fat</td>\n",
       "      <td>0.016047</td>\n",
       "      <td>Dairy</td>\n",
       "      <td>249.8092</td>\n",
       "      <td>OUT049</td>\n",
       "      <td>1999</td>\n",
       "      <td>Medium</td>\n",
       "      <td>Tier 1</td>\n",
       "      <td>Supermarket Type1</td>\n",
       "      <td>3735.1380</td>\n",
       "    </tr>\n",
       "    <tr>\n",
       "      <th>1</th>\n",
       "      <td>DRC01</td>\n",
       "      <td>5.92</td>\n",
       "      <td>Regular</td>\n",
       "      <td>0.019278</td>\n",
       "      <td>Soft Drinks</td>\n",
       "      <td>48.2692</td>\n",
       "      <td>OUT018</td>\n",
       "      <td>2009</td>\n",
       "      <td>Medium</td>\n",
       "      <td>Tier 3</td>\n",
       "      <td>Supermarket Type2</td>\n",
       "      <td>443.4228</td>\n",
       "    </tr>\n",
       "    <tr>\n",
       "      <th>2</th>\n",
       "      <td>FDN15</td>\n",
       "      <td>17.50</td>\n",
       "      <td>Low Fat</td>\n",
       "      <td>0.016760</td>\n",
       "      <td>Meat</td>\n",
       "      <td>141.6180</td>\n",
       "      <td>OUT049</td>\n",
       "      <td>1999</td>\n",
       "      <td>Medium</td>\n",
       "      <td>Tier 1</td>\n",
       "      <td>Supermarket Type1</td>\n",
       "      <td>2097.2700</td>\n",
       "    </tr>\n",
       "    <tr>\n",
       "      <th>3</th>\n",
       "      <td>FDX07</td>\n",
       "      <td>19.20</td>\n",
       "      <td>Regular</td>\n",
       "      <td>0.000000</td>\n",
       "      <td>Fruits and Vegetables</td>\n",
       "      <td>182.0950</td>\n",
       "      <td>OUT010</td>\n",
       "      <td>1998</td>\n",
       "      <td>NaN</td>\n",
       "      <td>Tier 3</td>\n",
       "      <td>Grocery Store</td>\n",
       "      <td>732.3800</td>\n",
       "    </tr>\n",
       "    <tr>\n",
       "      <th>4</th>\n",
       "      <td>NCD19</td>\n",
       "      <td>8.93</td>\n",
       "      <td>Low Fat</td>\n",
       "      <td>0.000000</td>\n",
       "      <td>Household</td>\n",
       "      <td>53.8614</td>\n",
       "      <td>OUT013</td>\n",
       "      <td>1987</td>\n",
       "      <td>High</td>\n",
       "      <td>Tier 3</td>\n",
       "      <td>Supermarket Type1</td>\n",
       "      <td>994.7052</td>\n",
       "    </tr>\n",
       "  </tbody>\n",
       "</table>\n",
       "</div>"
      ],
      "text/plain": [
       "  Item_Identifier  Item_Weight Item_Fat_Content  Item_Visibility  \\\n",
       "0           FDA15         9.30          Low Fat         0.016047   \n",
       "1           DRC01         5.92          Regular         0.019278   \n",
       "2           FDN15        17.50          Low Fat         0.016760   \n",
       "3           FDX07        19.20          Regular         0.000000   \n",
       "4           NCD19         8.93          Low Fat         0.000000   \n",
       "\n",
       "               Item_Type  Item_MRP Outlet_Identifier  \\\n",
       "0                  Dairy  249.8092            OUT049   \n",
       "1            Soft Drinks   48.2692            OUT018   \n",
       "2                   Meat  141.6180            OUT049   \n",
       "3  Fruits and Vegetables  182.0950            OUT010   \n",
       "4              Household   53.8614            OUT013   \n",
       "\n",
       "   Outlet_Establishment_Year Outlet_Size Outlet_Location_Type  \\\n",
       "0                       1999      Medium               Tier 1   \n",
       "1                       2009      Medium               Tier 3   \n",
       "2                       1999      Medium               Tier 1   \n",
       "3                       1998         NaN               Tier 3   \n",
       "4                       1987        High               Tier 3   \n",
       "\n",
       "         Outlet_Type  Item_Outlet_Sales  \n",
       "0  Supermarket Type1          3735.1380  \n",
       "1  Supermarket Type2           443.4228  \n",
       "2  Supermarket Type1          2097.2700  \n",
       "3      Grocery Store           732.3800  \n",
       "4  Supermarket Type1           994.7052  "
      ]
     },
     "execution_count": 2,
     "metadata": {},
     "output_type": "execute_result"
    }
   ],
   "source": [
    "train.head()"
   ]
  },
  {
   "cell_type": "code",
   "execution_count": 3,
   "metadata": {},
   "outputs": [
    {
     "data": {
      "text/html": [
       "<div>\n",
       "<style scoped>\n",
       "    .dataframe tbody tr th:only-of-type {\n",
       "        vertical-align: middle;\n",
       "    }\n",
       "\n",
       "    .dataframe tbody tr th {\n",
       "        vertical-align: top;\n",
       "    }\n",
       "\n",
       "    .dataframe thead th {\n",
       "        text-align: right;\n",
       "    }\n",
       "</style>\n",
       "<table border=\"1\" class=\"dataframe\">\n",
       "  <thead>\n",
       "    <tr style=\"text-align: right;\">\n",
       "      <th></th>\n",
       "      <th>Item_Identifier</th>\n",
       "      <th>Item_Weight</th>\n",
       "      <th>Item_Fat_Content</th>\n",
       "      <th>Item_Visibility</th>\n",
       "      <th>Item_Type</th>\n",
       "      <th>Item_MRP</th>\n",
       "      <th>Outlet_Identifier</th>\n",
       "      <th>Outlet_Establishment_Year</th>\n",
       "      <th>Outlet_Size</th>\n",
       "      <th>Outlet_Location_Type</th>\n",
       "      <th>Outlet_Type</th>\n",
       "    </tr>\n",
       "  </thead>\n",
       "  <tbody>\n",
       "    <tr>\n",
       "      <th>0</th>\n",
       "      <td>FDW58</td>\n",
       "      <td>20.750</td>\n",
       "      <td>Low Fat</td>\n",
       "      <td>0.007565</td>\n",
       "      <td>Snack Foods</td>\n",
       "      <td>107.8622</td>\n",
       "      <td>OUT049</td>\n",
       "      <td>1999</td>\n",
       "      <td>Medium</td>\n",
       "      <td>Tier 1</td>\n",
       "      <td>Supermarket Type1</td>\n",
       "    </tr>\n",
       "    <tr>\n",
       "      <th>1</th>\n",
       "      <td>FDW14</td>\n",
       "      <td>8.300</td>\n",
       "      <td>reg</td>\n",
       "      <td>0.038428</td>\n",
       "      <td>Dairy</td>\n",
       "      <td>87.3198</td>\n",
       "      <td>OUT017</td>\n",
       "      <td>2007</td>\n",
       "      <td>NaN</td>\n",
       "      <td>Tier 2</td>\n",
       "      <td>Supermarket Type1</td>\n",
       "    </tr>\n",
       "    <tr>\n",
       "      <th>2</th>\n",
       "      <td>NCN55</td>\n",
       "      <td>14.600</td>\n",
       "      <td>Low Fat</td>\n",
       "      <td>0.099575</td>\n",
       "      <td>Others</td>\n",
       "      <td>241.7538</td>\n",
       "      <td>OUT010</td>\n",
       "      <td>1998</td>\n",
       "      <td>NaN</td>\n",
       "      <td>Tier 3</td>\n",
       "      <td>Grocery Store</td>\n",
       "    </tr>\n",
       "    <tr>\n",
       "      <th>3</th>\n",
       "      <td>FDQ58</td>\n",
       "      <td>7.315</td>\n",
       "      <td>Low Fat</td>\n",
       "      <td>0.015388</td>\n",
       "      <td>Snack Foods</td>\n",
       "      <td>155.0340</td>\n",
       "      <td>OUT017</td>\n",
       "      <td>2007</td>\n",
       "      <td>NaN</td>\n",
       "      <td>Tier 2</td>\n",
       "      <td>Supermarket Type1</td>\n",
       "    </tr>\n",
       "    <tr>\n",
       "      <th>4</th>\n",
       "      <td>FDY38</td>\n",
       "      <td>NaN</td>\n",
       "      <td>Regular</td>\n",
       "      <td>0.118599</td>\n",
       "      <td>Dairy</td>\n",
       "      <td>234.2300</td>\n",
       "      <td>OUT027</td>\n",
       "      <td>1985</td>\n",
       "      <td>Medium</td>\n",
       "      <td>Tier 3</td>\n",
       "      <td>Supermarket Type3</td>\n",
       "    </tr>\n",
       "  </tbody>\n",
       "</table>\n",
       "</div>"
      ],
      "text/plain": [
       "  Item_Identifier  Item_Weight Item_Fat_Content  Item_Visibility    Item_Type  \\\n",
       "0           FDW58       20.750          Low Fat         0.007565  Snack Foods   \n",
       "1           FDW14        8.300              reg         0.038428        Dairy   \n",
       "2           NCN55       14.600          Low Fat         0.099575       Others   \n",
       "3           FDQ58        7.315          Low Fat         0.015388  Snack Foods   \n",
       "4           FDY38          NaN          Regular         0.118599        Dairy   \n",
       "\n",
       "   Item_MRP Outlet_Identifier  Outlet_Establishment_Year Outlet_Size  \\\n",
       "0  107.8622            OUT049                       1999      Medium   \n",
       "1   87.3198            OUT017                       2007         NaN   \n",
       "2  241.7538            OUT010                       1998         NaN   \n",
       "3  155.0340            OUT017                       2007         NaN   \n",
       "4  234.2300            OUT027                       1985      Medium   \n",
       "\n",
       "  Outlet_Location_Type        Outlet_Type  \n",
       "0               Tier 1  Supermarket Type1  \n",
       "1               Tier 2  Supermarket Type1  \n",
       "2               Tier 3      Grocery Store  \n",
       "3               Tier 2  Supermarket Type1  \n",
       "4               Tier 3  Supermarket Type3  "
      ]
     },
     "execution_count": 3,
     "metadata": {},
     "output_type": "execute_result"
    }
   ],
   "source": [
    "test.head()"
   ]
  },
  {
   "cell_type": "code",
   "execution_count": 4,
   "metadata": {},
   "outputs": [],
   "source": [
    "# saving identifiers\n",
    "test_Item_Identifier = test['Item_Identifier']\n",
    "test_Outlet_Identifier = test['Outlet_Identifier']\n",
    "sales = train['Item_Outlet_Sales']\n",
    "train.drop(['Item_Outlet_Sales'], axis=1, inplace=True)"
   ]
  },
  {
   "cell_type": "code",
   "execution_count": 5,
   "metadata": {},
   "outputs": [
    {
     "data": {
      "text/html": [
       "<div>\n",
       "<style scoped>\n",
       "    .dataframe tbody tr th:only-of-type {\n",
       "        vertical-align: middle;\n",
       "    }\n",
       "\n",
       "    .dataframe tbody tr th {\n",
       "        vertical-align: top;\n",
       "    }\n",
       "\n",
       "    .dataframe thead th {\n",
       "        text-align: right;\n",
       "    }\n",
       "</style>\n",
       "<table border=\"1\" class=\"dataframe\">\n",
       "  <thead>\n",
       "    <tr style=\"text-align: right;\">\n",
       "      <th></th>\n",
       "      <th>Item_Identifier</th>\n",
       "      <th>Item_Weight</th>\n",
       "      <th>Item_Fat_Content</th>\n",
       "      <th>Item_Visibility</th>\n",
       "      <th>Item_Type</th>\n",
       "      <th>Item_MRP</th>\n",
       "      <th>Outlet_Identifier</th>\n",
       "      <th>Outlet_Establishment_Year</th>\n",
       "      <th>Outlet_Size</th>\n",
       "      <th>Outlet_Location_Type</th>\n",
       "      <th>Outlet_Type</th>\n",
       "    </tr>\n",
       "  </thead>\n",
       "  <tbody>\n",
       "    <tr>\n",
       "      <th>0</th>\n",
       "      <td>FDA15</td>\n",
       "      <td>9.30</td>\n",
       "      <td>Low Fat</td>\n",
       "      <td>0.016047</td>\n",
       "      <td>Dairy</td>\n",
       "      <td>249.8092</td>\n",
       "      <td>OUT049</td>\n",
       "      <td>1999</td>\n",
       "      <td>Medium</td>\n",
       "      <td>Tier 1</td>\n",
       "      <td>Supermarket Type1</td>\n",
       "    </tr>\n",
       "    <tr>\n",
       "      <th>1</th>\n",
       "      <td>DRC01</td>\n",
       "      <td>5.92</td>\n",
       "      <td>Regular</td>\n",
       "      <td>0.019278</td>\n",
       "      <td>Soft Drinks</td>\n",
       "      <td>48.2692</td>\n",
       "      <td>OUT018</td>\n",
       "      <td>2009</td>\n",
       "      <td>Medium</td>\n",
       "      <td>Tier 3</td>\n",
       "      <td>Supermarket Type2</td>\n",
       "    </tr>\n",
       "    <tr>\n",
       "      <th>2</th>\n",
       "      <td>FDN15</td>\n",
       "      <td>17.50</td>\n",
       "      <td>Low Fat</td>\n",
       "      <td>0.016760</td>\n",
       "      <td>Meat</td>\n",
       "      <td>141.6180</td>\n",
       "      <td>OUT049</td>\n",
       "      <td>1999</td>\n",
       "      <td>Medium</td>\n",
       "      <td>Tier 1</td>\n",
       "      <td>Supermarket Type1</td>\n",
       "    </tr>\n",
       "    <tr>\n",
       "      <th>3</th>\n",
       "      <td>FDX07</td>\n",
       "      <td>19.20</td>\n",
       "      <td>Regular</td>\n",
       "      <td>0.000000</td>\n",
       "      <td>Fruits and Vegetables</td>\n",
       "      <td>182.0950</td>\n",
       "      <td>OUT010</td>\n",
       "      <td>1998</td>\n",
       "      <td>NaN</td>\n",
       "      <td>Tier 3</td>\n",
       "      <td>Grocery Store</td>\n",
       "    </tr>\n",
       "    <tr>\n",
       "      <th>4</th>\n",
       "      <td>NCD19</td>\n",
       "      <td>8.93</td>\n",
       "      <td>Low Fat</td>\n",
       "      <td>0.000000</td>\n",
       "      <td>Household</td>\n",
       "      <td>53.8614</td>\n",
       "      <td>OUT013</td>\n",
       "      <td>1987</td>\n",
       "      <td>High</td>\n",
       "      <td>Tier 3</td>\n",
       "      <td>Supermarket Type1</td>\n",
       "    </tr>\n",
       "  </tbody>\n",
       "</table>\n",
       "</div>"
      ],
      "text/plain": [
       "  Item_Identifier  Item_Weight Item_Fat_Content  Item_Visibility  \\\n",
       "0           FDA15         9.30          Low Fat         0.016047   \n",
       "1           DRC01         5.92          Regular         0.019278   \n",
       "2           FDN15        17.50          Low Fat         0.016760   \n",
       "3           FDX07        19.20          Regular         0.000000   \n",
       "4           NCD19         8.93          Low Fat         0.000000   \n",
       "\n",
       "               Item_Type  Item_MRP Outlet_Identifier  \\\n",
       "0                  Dairy  249.8092            OUT049   \n",
       "1            Soft Drinks   48.2692            OUT018   \n",
       "2                   Meat  141.6180            OUT049   \n",
       "3  Fruits and Vegetables  182.0950            OUT010   \n",
       "4              Household   53.8614            OUT013   \n",
       "\n",
       "   Outlet_Establishment_Year Outlet_Size Outlet_Location_Type  \\\n",
       "0                       1999      Medium               Tier 1   \n",
       "1                       2009      Medium               Tier 3   \n",
       "2                       1999      Medium               Tier 1   \n",
       "3                       1998         NaN               Tier 3   \n",
       "4                       1987        High               Tier 3   \n",
       "\n",
       "         Outlet_Type  \n",
       "0  Supermarket Type1  \n",
       "1  Supermarket Type2  \n",
       "2  Supermarket Type1  \n",
       "3      Grocery Store  \n",
       "4  Supermarket Type1  "
      ]
     },
     "execution_count": 5,
     "metadata": {},
     "output_type": "execute_result"
    }
   ],
   "source": [
    "train.head()"
   ]
  },
  {
   "cell_type": "code",
   "execution_count": 6,
   "metadata": {},
   "outputs": [
    {
     "name": "stdout",
     "output_type": "stream",
     "text": [
      "<class 'pandas.core.frame.DataFrame'>\n",
      "RangeIndex: 8523 entries, 0 to 8522\n",
      "Data columns (total 11 columns):\n",
      " #   Column                     Non-Null Count  Dtype  \n",
      "---  ------                     --------------  -----  \n",
      " 0   Item_Identifier            8523 non-null   object \n",
      " 1   Item_Weight                7060 non-null   float64\n",
      " 2   Item_Fat_Content           8523 non-null   object \n",
      " 3   Item_Visibility            8523 non-null   float64\n",
      " 4   Item_Type                  8523 non-null   object \n",
      " 5   Item_MRP                   8523 non-null   float64\n",
      " 6   Outlet_Identifier          8523 non-null   object \n",
      " 7   Outlet_Establishment_Year  8523 non-null   int64  \n",
      " 8   Outlet_Size                6113 non-null   object \n",
      " 9   Outlet_Location_Type       8523 non-null   object \n",
      " 10  Outlet_Type                8523 non-null   object \n",
      "dtypes: float64(3), int64(1), object(7)\n",
      "memory usage: 732.6+ KB\n"
     ]
    }
   ],
   "source": [
    "train.info()"
   ]
  },
  {
   "cell_type": "code",
   "execution_count": 7,
   "metadata": {},
   "outputs": [],
   "source": [
    "combi = train.append(test, ignore_index=True)"
   ]
  },
  {
   "cell_type": "code",
   "execution_count": 8,
   "metadata": {},
   "outputs": [
    {
     "data": {
      "text/plain": [
       "Item_Identifier                 0\n",
       "Item_Weight                  2439\n",
       "Item_Fat_Content                0\n",
       "Item_Visibility                 0\n",
       "Item_Type                       0\n",
       "Item_MRP                        0\n",
       "Outlet_Identifier               0\n",
       "Outlet_Establishment_Year       0\n",
       "Outlet_Size                  4016\n",
       "Outlet_Location_Type            0\n",
       "Outlet_Type                     0\n",
       "dtype: int64"
      ]
     },
     "execution_count": 8,
     "metadata": {},
     "output_type": "execute_result"
    }
   ],
   "source": [
    "combi.isnull().sum()"
   ]
  },
  {
   "cell_type": "code",
   "execution_count": 9,
   "metadata": {},
   "outputs": [],
   "source": [
    "# imputing missing data\n",
    "combi['Item_Weight'].fillna(combi['Item_Weight'].mean(), inplace = True)\n",
    "combi['Outlet_Size'].fillna(\"missing\", inplace = True)"
   ]
  },
  {
   "cell_type": "code",
   "execution_count": 10,
   "metadata": {},
   "outputs": [
    {
     "data": {
      "text/plain": [
       "Low Fat    8485\n",
       "Regular    4824\n",
       "LF          522\n",
       "reg         195\n",
       "low fat     178\n",
       "Name: Item_Fat_Content, dtype: int64"
      ]
     },
     "execution_count": 10,
     "metadata": {},
     "output_type": "execute_result"
    }
   ],
   "source": [
    "combi['Item_Fat_Content'].value_counts()"
   ]
  },
  {
   "cell_type": "code",
   "execution_count": 11,
   "metadata": {},
   "outputs": [],
   "source": [
    "# dictionary to replace the categories\n",
    "fat_content_dict = {'Low Fat':0, 'Regular':1, 'LF':0, 'reg':1, 'low fat':0}\n",
    "\n",
    "combi['Item_Fat_Content'] = combi['Item_Fat_Content'].replace(fat_content_dict, regex=True)"
   ]
  },
  {
   "cell_type": "code",
   "execution_count": 12,
   "metadata": {},
   "outputs": [
    {
     "data": {
      "text/plain": [
       "(NCI54    10\n",
       " FDT51    10\n",
       " FDP15    10\n",
       " NCM18    10\n",
       " FDR12    10\n",
       "          ..\n",
       " FDS22     7\n",
       " FDM10     7\n",
       " DRN11     7\n",
       " NCL42     7\n",
       " FDX49     7\n",
       " Name: Item_Identifier, Length: 1559, dtype: int64,\n",
       " OUT027    1559\n",
       " OUT013    1553\n",
       " OUT046    1550\n",
       " OUT035    1550\n",
       " OUT049    1550\n",
       " OUT045    1548\n",
       " OUT018    1546\n",
       " OUT017    1543\n",
       " OUT010     925\n",
       " OUT019     880\n",
       " Name: Outlet_Identifier, dtype: int64)"
      ]
     },
     "execution_count": 12,
     "metadata": {},
     "output_type": "execute_result"
    }
   ],
   "source": [
    "combi['Item_Identifier'].value_counts() , combi['Outlet_Identifier'].value_counts()"
   ]
  },
  {
   "cell_type": "code",
   "execution_count": 13,
   "metadata": {},
   "outputs": [],
   "source": [
    "combi['id'] = combi['Item_Identifier'] + combi['Outlet_Identifier']\n",
    "combi.drop(['Item_Identifier'], axis=1, inplace=True)"
   ]
  },
  {
   "cell_type": "code",
   "execution_count": 15,
   "metadata": {},
   "outputs": [
    {
     "data": {
      "text/plain": [
       "(8523, 11)"
      ]
     },
     "execution_count": 15,
     "metadata": {},
     "output_type": "execute_result"
    }
   ],
   "source": [
    "train.shape"
   ]
  },
  {
   "cell_type": "raw",
   "metadata": {},
   "source": []
  },
  {
   "cell_type": "code",
   "execution_count": 16,
   "metadata": {},
   "outputs": [
    {
     "data": {
      "text/plain": [
       "(5681, 11)"
      ]
     },
     "execution_count": 16,
     "metadata": {},
     "output_type": "execute_result"
    }
   ],
   "source": [
    "test.shape"
   ]
  },
  {
   "cell_type": "code",
   "execution_count": 17,
   "metadata": {},
   "outputs": [
    {
     "data": {
      "text/plain": [
       "(14204, 11)"
      ]
     },
     "execution_count": 17,
     "metadata": {},
     "output_type": "execute_result"
    }
   ],
   "source": [
    "combi.shape"
   ]
  },
  {
   "cell_type": "code",
   "execution_count": 18,
   "metadata": {},
   "outputs": [
    {
     "name": "stdout",
     "output_type": "stream",
     "text": [
      "<class 'pandas.core.frame.DataFrame'>\n",
      "RangeIndex: 14204 entries, 0 to 14203\n",
      "Data columns (total 11 columns):\n",
      " #   Column                     Non-Null Count  Dtype  \n",
      "---  ------                     --------------  -----  \n",
      " 0   Item_Weight                14204 non-null  float64\n",
      " 1   Item_Fat_Content           14204 non-null  int64  \n",
      " 2   Item_Visibility            14204 non-null  float64\n",
      " 3   Item_Type                  14204 non-null  object \n",
      " 4   Item_MRP                   14204 non-null  float64\n",
      " 5   Outlet_Identifier          14204 non-null  object \n",
      " 6   Outlet_Establishment_Year  14204 non-null  int64  \n",
      " 7   Outlet_Size                14204 non-null  object \n",
      " 8   Outlet_Location_Type       14204 non-null  object \n",
      " 9   Outlet_Type                14204 non-null  object \n",
      " 10  id                         14204 non-null  object \n",
      "dtypes: float64(3), int64(2), object(6)\n",
      "memory usage: 1.2+ MB\n"
     ]
    }
   ],
   "source": [
    "combi.info()"
   ]
  },
  {
   "cell_type": "code",
   "execution_count": 19,
   "metadata": {},
   "outputs": [
    {
     "data": {
      "text/plain": [
       "array([ 3,  5,  7,  8,  9, 10], dtype=int64)"
      ]
     },
     "execution_count": 19,
     "metadata": {},
     "output_type": "execute_result"
    }
   ],
   "source": [
    "categorical_features = np.where(combi.dtypes == 'object')[0]\n",
    "categorical_features"
   ]
  },
  {
   "cell_type": "code",
   "execution_count": 29,
   "metadata": {},
   "outputs": [
    {
     "name": "stdout",
     "output_type": "stream",
     "text": [
      " Unique values in Item_Type : 16\n",
      " Unique values in Outlet_Identifier : 10\n",
      " Unique values in Outlet_Size : 4\n",
      " Unique values in Outlet_Location_Type : 3\n",
      " Unique values in Outlet_Type : 4\n",
      " Unique values in id : 14204\n"
     ]
    }
   ],
   "source": [
    "for i in categorical_features:\n",
    "    print(\" Unique values in\", combi.columns[i], \":\",combi.iloc[:,i].nunique()) \n",
    "    "
   ]
  },
  {
   "cell_type": "code",
   "execution_count": 25,
   "metadata": {},
   "outputs": [
    {
     "data": {
      "text/plain": [
       "'Item_Type'"
      ]
     },
     "execution_count": 25,
     "metadata": {},
     "output_type": "execute_result"
    }
   ],
   "source": [
    "combi.columns[3]"
   ]
  },
  {
   "cell_type": "code",
   "execution_count": 32,
   "metadata": {},
   "outputs": [
    {
     "data": {
      "text/plain": [
       "Index(['Item_Weight', 'Item_Fat_Content', 'Item_Visibility', 'Item_MRP',\n",
       "       'Outlet_Establishment_Year'],\n",
       "      dtype='object')"
      ]
     },
     "execution_count": 32,
     "metadata": {},
     "output_type": "execute_result"
    }
   ],
   "source": [
    "numerics = ['int16', 'int32', 'int64', 'float16', 'float32', 'float64']\n",
    "\n",
    "num_features = combi.select_dtypes(include=numerics).columns\n",
    "num_features"
   ]
  },
  {
   "cell_type": "markdown",
   "metadata": {},
   "source": [
    "### Lets find out skewness in the numerical columns "
   ]
  },
  {
   "cell_type": "code",
   "execution_count": 37,
   "metadata": {},
   "outputs": [
    {
     "name": "stdout",
     "output_type": "stream",
     "text": [
      "skew Item_Weight :  0.11130214402607956\n",
      "kurt Item_Weight :  -0.8607458068897214\n",
      "skew Item_Fat_Content :  0.6135798479262169\n",
      "kurt Item_Fat_Content :  -1.6235197702188404\n",
      "skew Item_Visibility :  1.1950489584107384\n",
      "kurt Item_Visibility :  1.8190084548869292\n",
      "skew Item_MRP :  0.13071455455227582\n",
      "kurt Item_MRP :  -0.893963773474292\n",
      "skew Outlet_Establishment_Year :  -0.39642332052631185\n",
      "kurt Outlet_Establishment_Year :  -1.2058651215276752\n"
     ]
    },
    {
     "data": {
      "image/png": "[encoded data removed]",
      "text/plain": [
       "<Figure size 432x288 with 1 Axes>"
      ]
     },
     "metadata": {},
     "output_type": "display_data"
    }
   ],
   "source": [
    "%matplotlib inline\n",
    "import numpy as np\n",
    "import pandas as pd\n",
    "from scipy.stats import kurtosis\n",
    "from scipy.stats import skew\n",
    "\n",
    "import matplotlib.pyplot as plt\n",
    "\n",
    "for i in num_features:\n",
    "#    plt.style.use('ggplot')\n",
    "    data = combi[i]\n",
    " #   np.var(data)\n",
    "\n",
    "#    plt.hist(data, bins=10)\n",
    "\n",
    "#    print(\"mean\", i,\": \", np.mean(data))\n",
    "#    print(\"var\"  , i,\": \", np.var(data))\n",
    "    print(\"skew\" , i,\": \",skew(data))\n",
    "    print(\"kurt\", i,\": \" ,kurtosis(data))"
   ]
  },
  {
   "cell_type": "code",
   "execution_count": 43,
   "metadata": {},
   "outputs": [
    {
     "name": "stdout",
     "output_type": "stream",
     "text": [
      "skew Item_Weight :  -0.19017977758107998\n",
      "kurt Item_Weight :  -0.8019706484559994\n",
      "skew Item_Fat_Content :  0.6135798479262169\n",
      "kurt Item_Fat_Content :  -1.6235197702188404\n",
      "skew Item_Visibility :  -0.09674806036220486\n",
      "kurt Item_Visibility :  -0.0009360343419668737\n",
      "skew Item_MRP :  -0.27862016247292276\n",
      "kurt Item_MRP :  -0.7921197109640001\n",
      "skew Outlet_Establishment_Year :  -0.3984239020800498\n",
      "kurt Outlet_Establishment_Year :  -1.2055164562905867\n"
     ]
    }
   ],
   "source": [
    "%matplotlib inline\n",
    "import numpy as np\n",
    "import pandas as pd\n",
    "from scipy.stats import kurtosis\n",
    "from scipy.stats import skew\n",
    "from scipy.stats import boxcox\n",
    "\n",
    "import matplotlib.pyplot as plt\n",
    "\n",
    "for i in num_features:\n",
    "    data = np.sqrt(combi[i])\n",
    "    print(\"skew\" , i,\": \",skew(data))\n",
    "    print(\"kurt\", i,\": \" ,kurtosis(data))"
   ]
  },
  {
   "cell_type": "code",
   "execution_count": 52,
   "metadata": {},
   "outputs": [
    {
     "name": "stdout",
     "output_type": "stream",
     "text": [
      "skew Item_Weight :  -0.0730223300361668\n",
      "kurt Item_Weight :  -0.8464282440050996\n"
     ]
    },
    {
     "ename": "ValueError",
     "evalue": "Data must be positive.",
     "output_type": "error",
     "traceback": [
      "\u001b[1;31m---------------------------------------------------------------------------\u001b[0m",
      "\u001b[1;31mValueError\u001b[0m                                Traceback (most recent call last)",
      "\u001b[1;32m<ipython-input-52-a8d881efcc91>\u001b[0m in \u001b[0;36m<module>\u001b[1;34m\u001b[0m\n\u001b[0;32m     10\u001b[0m \u001b[1;32mfor\u001b[0m \u001b[0mi\u001b[0m \u001b[1;32min\u001b[0m \u001b[0mnum_features\u001b[0m\u001b[1;33m:\u001b[0m\u001b[1;33m\u001b[0m\u001b[1;33m\u001b[0m\u001b[0m\n\u001b[0;32m     11\u001b[0m     \u001b[0mdata\u001b[0m \u001b[1;33m=\u001b[0m \u001b[0mnp\u001b[0m\u001b[1;33m.\u001b[0m\u001b[0msqrt\u001b[0m\u001b[1;33m(\u001b[0m\u001b[0mcombi\u001b[0m\u001b[1;33m[\u001b[0m\u001b[0mi\u001b[0m\u001b[1;33m]\u001b[0m\u001b[1;33m)\u001b[0m\u001b[1;33m\u001b[0m\u001b[1;33m\u001b[0m\u001b[0m\n\u001b[1;32m---> 12\u001b[1;33m     \u001b[0mdata\u001b[0m \u001b[1;33m=\u001b[0m \u001b[0mnp\u001b[0m\u001b[1;33m.\u001b[0m\u001b[0mwhere\u001b[0m\u001b[1;33m(\u001b[0m\u001b[0mcombi\u001b[0m\u001b[1;33m[\u001b[0m\u001b[0mi\u001b[0m\u001b[1;33m]\u001b[0m\u001b[1;33m<=\u001b[0m\u001b[1;36m0\u001b[0m\u001b[1;33m,\u001b[0m\u001b[1;36m0\u001b[0m\u001b[1;33m,\u001b[0m\u001b[0mboxcox\u001b[0m\u001b[1;33m(\u001b[0m\u001b[0mcombi\u001b[0m\u001b[1;33m[\u001b[0m\u001b[0mi\u001b[0m\u001b[1;33m]\u001b[0m\u001b[1;33m)\u001b[0m\u001b[1;33m[\u001b[0m\u001b[1;36m0\u001b[0m\u001b[1;33m]\u001b[0m\u001b[1;33m)\u001b[0m\u001b[1;33m\u001b[0m\u001b[1;33m\u001b[0m\u001b[0m\n\u001b[0m\u001b[0;32m     13\u001b[0m     \u001b[0mprint\u001b[0m\u001b[1;33m(\u001b[0m\u001b[1;34m\"skew\"\u001b[0m \u001b[1;33m,\u001b[0m \u001b[0mi\u001b[0m\u001b[1;33m,\u001b[0m\u001b[1;34m\": \"\u001b[0m\u001b[1;33m,\u001b[0m\u001b[0mskew\u001b[0m\u001b[1;33m(\u001b[0m\u001b[0mdata\u001b[0m\u001b[1;33m)\u001b[0m\u001b[1;33m)\u001b[0m\u001b[1;33m\u001b[0m\u001b[1;33m\u001b[0m\u001b[0m\n\u001b[0;32m     14\u001b[0m     \u001b[0mprint\u001b[0m\u001b[1;33m(\u001b[0m\u001b[1;34m\"kurt\"\u001b[0m\u001b[1;33m,\u001b[0m \u001b[0mi\u001b[0m\u001b[1;33m,\u001b[0m\u001b[1;34m\": \"\u001b[0m \u001b[1;33m,\u001b[0m\u001b[0mkurtosis\u001b[0m\u001b[1;33m(\u001b[0m\u001b[0mdata\u001b[0m\u001b[1;33m)\u001b[0m\u001b[1;33m)\u001b[0m\u001b[1;33m\u001b[0m\u001b[1;33m\u001b[0m\u001b[0m\n",
      "\u001b[1;32mD:\\Study\\Great Lakes\\INtro to python\\Anaconda\\lib\\site-packages\\scipy\\stats\\morestats.py\u001b[0m in \u001b[0;36mboxcox\u001b[1;34m(x, lmbda, alpha, optimizer)\u001b[0m\n\u001b[0;32m   1062\u001b[0m \u001b[1;33m\u001b[0m\u001b[0m\n\u001b[0;32m   1063\u001b[0m     \u001b[1;32mif\u001b[0m \u001b[0mnp\u001b[0m\u001b[1;33m.\u001b[0m\u001b[0many\u001b[0m\u001b[1;33m(\u001b[0m\u001b[0mx\u001b[0m \u001b[1;33m<=\u001b[0m \u001b[1;36m0\u001b[0m\u001b[1;33m)\u001b[0m\u001b[1;33m:\u001b[0m\u001b[1;33m\u001b[0m\u001b[1;33m\u001b[0m\u001b[0m\n\u001b[1;32m-> 1064\u001b[1;33m         \u001b[1;32mraise\u001b[0m \u001b[0mValueError\u001b[0m\u001b[1;33m(\u001b[0m\u001b[1;34m\"Data must be positive.\"\u001b[0m\u001b[1;33m)\u001b[0m\u001b[1;33m\u001b[0m\u001b[1;33m\u001b[0m\u001b[0m\n\u001b[0m\u001b[0;32m   1065\u001b[0m \u001b[1;33m\u001b[0m\u001b[0m\n\u001b[0;32m   1066\u001b[0m     \u001b[1;32mif\u001b[0m \u001b[0mlmbda\u001b[0m \u001b[1;32mis\u001b[0m \u001b[1;32mnot\u001b[0m \u001b[1;32mNone\u001b[0m\u001b[1;33m:\u001b[0m  \u001b[1;31m# single transformation\u001b[0m\u001b[1;33m\u001b[0m\u001b[1;33m\u001b[0m\u001b[0m\n",
      "\u001b[1;31mValueError\u001b[0m: Data must be positive."
     ]
    }
   ],
   "source": [
    "%matplotlib inline\n",
    "import numpy as np\n",
    "import pandas as pd\n",
    "from scipy.stats import kurtosis\n",
    "from scipy.stats import skew\n",
    "from scipy.stats import boxcox\n",
    "\n",
    "import matplotlib.pyplot as plt\n",
    "\n",
    "for i in num_features:\n",
    "    data = np.sqrt(combi[i])\n",
    "    data = np.where(combi[i]<=0,0,boxcox(combi[i])[0])\n",
    "    print(\"skew\" , i,\": \",skew(data))\n",
    "    print(\"kurt\", i,\": \" ,kurtosis(data))"
   ]
  },
  {
   "cell_type": "code",
   "execution_count": 42,
   "metadata": {},
   "outputs": [
    {
     "data": {
      "text/html": [
       "<div>\n",
       "<style scoped>\n",
       "    .dataframe tbody tr th:only-of-type {\n",
       "        vertical-align: middle;\n",
       "    }\n",
       "\n",
       "    .dataframe tbody tr th {\n",
       "        vertical-align: top;\n",
       "    }\n",
       "\n",
       "    .dataframe thead th {\n",
       "        text-align: right;\n",
       "    }\n",
       "</style>\n",
       "<table border=\"1\" class=\"dataframe\">\n",
       "  <thead>\n",
       "    <tr style=\"text-align: right;\">\n",
       "      <th></th>\n",
       "      <th>Item_Weight</th>\n",
       "      <th>Item_Fat_Content</th>\n",
       "      <th>Item_Visibility</th>\n",
       "      <th>Item_MRP</th>\n",
       "      <th>Outlet_Establishment_Year</th>\n",
       "    </tr>\n",
       "  </thead>\n",
       "  <tbody>\n",
       "    <tr>\n",
       "      <th>count</th>\n",
       "      <td>14204.000000</td>\n",
       "      <td>14204.000000</td>\n",
       "      <td>14204.000000</td>\n",
       "      <td>14204.000000</td>\n",
       "      <td>14204.000000</td>\n",
       "    </tr>\n",
       "    <tr>\n",
       "      <th>mean</th>\n",
       "      <td>12.792854</td>\n",
       "      <td>0.353351</td>\n",
       "      <td>0.065953</td>\n",
       "      <td>141.004977</td>\n",
       "      <td>1997.830681</td>\n",
       "    </tr>\n",
       "    <tr>\n",
       "      <th>std</th>\n",
       "      <td>4.234226</td>\n",
       "      <td>0.478027</td>\n",
       "      <td>0.051459</td>\n",
       "      <td>62.086938</td>\n",
       "      <td>8.371664</td>\n",
       "    </tr>\n",
       "    <tr>\n",
       "      <th>min</th>\n",
       "      <td>4.555000</td>\n",
       "      <td>0.000000</td>\n",
       "      <td>0.000000</td>\n",
       "      <td>31.290000</td>\n",
       "      <td>1985.000000</td>\n",
       "    </tr>\n",
       "    <tr>\n",
       "      <th>25%</th>\n",
       "      <td>9.300000</td>\n",
       "      <td>0.000000</td>\n",
       "      <td>0.027036</td>\n",
       "      <td>94.012000</td>\n",
       "      <td>1987.000000</td>\n",
       "    </tr>\n",
       "    <tr>\n",
       "      <th>50%</th>\n",
       "      <td>12.792854</td>\n",
       "      <td>0.000000</td>\n",
       "      <td>0.054021</td>\n",
       "      <td>142.247000</td>\n",
       "      <td>1999.000000</td>\n",
       "    </tr>\n",
       "    <tr>\n",
       "      <th>75%</th>\n",
       "      <td>16.000000</td>\n",
       "      <td>1.000000</td>\n",
       "      <td>0.094037</td>\n",
       "      <td>185.855600</td>\n",
       "      <td>2004.000000</td>\n",
       "    </tr>\n",
       "    <tr>\n",
       "      <th>max</th>\n",
       "      <td>21.350000</td>\n",
       "      <td>1.000000</td>\n",
       "      <td>0.328391</td>\n",
       "      <td>266.888400</td>\n",
       "      <td>2009.000000</td>\n",
       "    </tr>\n",
       "  </tbody>\n",
       "</table>\n",
       "</div>"
      ],
      "text/plain": [
       "        Item_Weight  Item_Fat_Content  Item_Visibility      Item_MRP  \\\n",
       "count  14204.000000      14204.000000     14204.000000  14204.000000   \n",
       "mean      12.792854          0.353351         0.065953    141.004977   \n",
       "std        4.234226          0.478027         0.051459     62.086938   \n",
       "min        4.555000          0.000000         0.000000     31.290000   \n",
       "25%        9.300000          0.000000         0.027036     94.012000   \n",
       "50%       12.792854          0.000000         0.054021    142.247000   \n",
       "75%       16.000000          1.000000         0.094037    185.855600   \n",
       "max       21.350000          1.000000         0.328391    266.888400   \n",
       "\n",
       "       Outlet_Establishment_Year  \n",
       "count               14204.000000  \n",
       "mean                 1997.830681  \n",
       "std                     8.371664  \n",
       "min                  1985.000000  \n",
       "25%                  1987.000000  \n",
       "50%                  1999.000000  \n",
       "75%                  2004.000000  \n",
       "max                  2009.000000  "
      ]
     },
     "execution_count": 42,
     "metadata": {},
     "output_type": "execute_result"
    }
   ],
   "source": [
    "combi[num_features].describe()"
   ]
  },
  {
   "cell_type": "code",
   "execution_count": 64,
   "metadata": {},
   "outputs": [
    {
     "data": {
      "text/html": [
       "<div>\n",
       "<style scoped>\n",
       "    .dataframe tbody tr th:only-of-type {\n",
       "        vertical-align: middle;\n",
       "    }\n",
       "\n",
       "    .dataframe tbody tr th {\n",
       "        vertical-align: top;\n",
       "    }\n",
       "\n",
       "    .dataframe thead th {\n",
       "        text-align: right;\n",
       "    }\n",
       "</style>\n",
       "<table border=\"1\" class=\"dataframe\">\n",
       "  <thead>\n",
       "    <tr style=\"text-align: right;\">\n",
       "      <th></th>\n",
       "      <th>Skew</th>\n",
       "      <th>Kurtosis</th>\n",
       "    </tr>\n",
       "  </thead>\n",
       "  <tbody>\n",
       "    <tr>\n",
       "      <th>Item_MRP</th>\n",
       "      <td>0.130728</td>\n",
       "      <td>-0.893856</td>\n",
       "    </tr>\n",
       "    <tr>\n",
       "      <th>Item_Visibility</th>\n",
       "      <td>1.195175</td>\n",
       "      <td>1.820071</td>\n",
       "    </tr>\n",
       "    <tr>\n",
       "      <th>Item_Weight</th>\n",
       "      <td>0.111314</td>\n",
       "      <td>-0.860626</td>\n",
       "    </tr>\n",
       "    <tr>\n",
       "      <th>Outlet_Establishment_Year</th>\n",
       "      <td>-0.396465</td>\n",
       "      <td>-1.205867</td>\n",
       "    </tr>\n",
       "  </tbody>\n",
       "</table>\n",
       "</div>"
      ],
      "text/plain": [
       "                               Skew  Kurtosis\n",
       "Item_MRP                   0.130728 -0.893856\n",
       "Item_Visibility            1.195175  1.820071\n",
       "Item_Weight                0.111314 -0.860626\n",
       "Outlet_Establishment_Year -0.396465 -1.205867"
      ]
     },
     "execution_count": 64,
     "metadata": {},
     "output_type": "execute_result"
    }
   ],
   "source": [
    "num_feats = combi.dtypes[combi.dtypes!='object'].index\n",
    "num_feats =['Item_Weight',  'Item_Visibility', 'Item_MRP',  'Outlet_Establishment_Year']\n",
    "skew_feats = combi[num_feats].skew().sort_values(ascending=False)\n",
    "kurt_feats = combi[num_feats].kurtosis()\n",
    "skewness = pd.DataFrame(({'Skew':skew_feats, 'Kurtosis':kurt_feats}))\n",
    "skewness"
   ]
  },
  {
   "cell_type": "code",
   "execution_count": 65,
   "metadata": {},
   "outputs": [],
   "source": [
    "num_feats =['Item_Weight',  'Item_Visibility', 'Item_MRP',  'Outlet_Establishment_Year']"
   ]
  },
  {
   "cell_type": "code",
   "execution_count": 84,
   "metadata": {},
   "outputs": [
    {
     "name": "stderr",
     "output_type": "stream",
     "text": [
      "C:\\Users\\Acer\\AppData\\Roaming\\Python\\Python37\\site-packages\\ipykernel_launcher.py:3: RuntimeWarning: divide by zero encountered in log\n",
      "  This is separate from the ipykernel package so we can avoid doing imports until\n",
      "D:\\Study\\Great Lakes\\INtro to python\\Anaconda\\lib\\site-packages\\numpy\\core\\_methods.py:205: RuntimeWarning: overflow encountered in multiply\n",
      "  x = um.multiply(x, x, out=x)\n",
      "D:\\Study\\Great Lakes\\INtro to python\\Anaconda\\lib\\site-packages\\numpy\\core\\_methods.py:216: RuntimeWarning: overflow encountered in reduce\n",
      "  ret = umr_sum(x, axis, dtype, out, keepdims)\n"
     ]
    },
    {
     "data": {
      "text/html": [
       "<div>\n",
       "<style scoped>\n",
       "    .dataframe tbody tr th:only-of-type {\n",
       "        vertical-align: middle;\n",
       "    }\n",
       "\n",
       "    .dataframe tbody tr th {\n",
       "        vertical-align: top;\n",
       "    }\n",
       "\n",
       "    .dataframe thead th {\n",
       "        text-align: right;\n",
       "    }\n",
       "</style>\n",
       "<table border=\"1\" class=\"dataframe\">\n",
       "  <thead>\n",
       "    <tr style=\"text-align: right;\">\n",
       "      <th></th>\n",
       "      <th>Skew</th>\n",
       "      <th>Kurtosis</th>\n",
       "      <th>sqrt_feats</th>\n",
       "      <th>cubrt_feats</th>\n",
       "      <th>log_feats</th>\n",
       "      <th>inv_feats</th>\n",
       "      <th>minmax_feats</th>\n",
       "      <th>std_feats</th>\n",
       "      <th>minmax_kurt</th>\n",
       "      <th>std_kurt</th>\n",
       "      <th>power_skew</th>\n",
       "      <th>power_kurt</th>\n",
       "    </tr>\n",
       "  </thead>\n",
       "  <tbody>\n",
       "    <tr>\n",
       "      <th>Item_MRP</th>\n",
       "      <td>0.130728</td>\n",
       "      <td>-0.893856</td>\n",
       "      <td>-0.278650</td>\n",
       "      <td>-0.425498</td>\n",
       "      <td>-0.731301</td>\n",
       "      <td>1.671754</td>\n",
       "      <td>0.130728</td>\n",
       "      <td>0.130728</td>\n",
       "      <td>-0.893856</td>\n",
       "      <td>-0.893856</td>\n",
       "      <td>-0.113637</td>\n",
       "      <td>-0.876636</td>\n",
       "    </tr>\n",
       "    <tr>\n",
       "      <th>Item_Visibility</th>\n",
       "      <td>1.195175</td>\n",
       "      <td>1.820071</td>\n",
       "      <td>-0.096758</td>\n",
       "      <td>-0.953269</td>\n",
       "      <td>NaN</td>\n",
       "      <td>NaN</td>\n",
       "      <td>1.195175</td>\n",
       "      <td>1.195175</td>\n",
       "      <td>1.820071</td>\n",
       "      <td>1.820071</td>\n",
       "      <td>0.121332</td>\n",
       "      <td>-0.829727</td>\n",
       "    </tr>\n",
       "    <tr>\n",
       "      <th>Item_Weight</th>\n",
       "      <td>0.111314</td>\n",
       "      <td>-0.860626</td>\n",
       "      <td>-0.190200</td>\n",
       "      <td>-0.294938</td>\n",
       "      <td>-0.509518</td>\n",
       "      <td>1.183444</td>\n",
       "      <td>0.111314</td>\n",
       "      <td>0.111314</td>\n",
       "      <td>-0.860626</td>\n",
       "      <td>-0.860626</td>\n",
       "      <td>-0.065230</td>\n",
       "      <td>-0.850403</td>\n",
       "    </tr>\n",
       "    <tr>\n",
       "      <th>Outlet_Establishment_Year</th>\n",
       "      <td>-0.396465</td>\n",
       "      <td>-1.205867</td>\n",
       "      <td>-0.398466</td>\n",
       "      <td>-0.399132</td>\n",
       "      <td>-0.400464</td>\n",
       "      <td>0.404449</td>\n",
       "      <td>-0.396465</td>\n",
       "      <td>-0.396465</td>\n",
       "      <td>-1.205867</td>\n",
       "      <td>-1.205867</td>\n",
       "      <td>-0.200960</td>\n",
       "      <td>-1.218392</td>\n",
       "    </tr>\n",
       "  </tbody>\n",
       "</table>\n",
       "</div>"
      ],
      "text/plain": [
       "                               Skew  Kurtosis  sqrt_feats  cubrt_feats  \\\n",
       "Item_MRP                   0.130728 -0.893856   -0.278650    -0.425498   \n",
       "Item_Visibility            1.195175  1.820071   -0.096758    -0.953269   \n",
       "Item_Weight                0.111314 -0.860626   -0.190200    -0.294938   \n",
       "Outlet_Establishment_Year -0.396465 -1.205867   -0.398466    -0.399132   \n",
       "\n",
       "                           log_feats  inv_feats  minmax_feats  std_feats  \\\n",
       "Item_MRP                   -0.731301   1.671754      0.130728   0.130728   \n",
       "Item_Visibility                  NaN        NaN      1.195175   1.195175   \n",
       "Item_Weight                -0.509518   1.183444      0.111314   0.111314   \n",
       "Outlet_Establishment_Year  -0.400464   0.404449     -0.396465  -0.396465   \n",
       "\n",
       "                           minmax_kurt  std_kurt  power_skew  power_kurt  \n",
       "Item_MRP                     -0.893856 -0.893856   -0.113637   -0.876636  \n",
       "Item_Visibility               1.820071  1.820071    0.121332   -0.829727  \n",
       "Item_Weight                  -0.860626 -0.860626   -0.065230   -0.850403  \n",
       "Outlet_Establishment_Year    -1.205867 -1.205867   -0.200960   -1.218392  "
      ]
     },
     "execution_count": 84,
     "metadata": {},
     "output_type": "execute_result"
    }
   ],
   "source": [
    "sqrt_feats = combi[num_feats]**(.5)\n",
    "cubrt_feats = combi[num_feats]**(1/3)\n",
    "log_feats = np.log(combi[num_feats])\n",
    "inv_feats = 1/combi[num_feats]\n",
    "\n",
    "from sklearn.preprocessing import MinMaxScaler\n",
    "# perform a robust scaler transform of the dataset\n",
    "trans = MinMaxScaler()\n",
    "data = trans.fit_transform(combi[num_feats])\n",
    "# convert the array back to a dataframe\n",
    "minmax_feats = pd.DataFrame(combi[num_feats])\n",
    "\n",
    "from sklearn.preprocessing import StandardScaler\n",
    "trans = StandardScaler()\n",
    "data = trans.fit_transform(combi[num_feats])\n",
    "# convert the array back to a dataframe\n",
    "std_feats = pd.DataFrame(combi[num_feats])\n",
    "\n",
    "#skewness removal\n",
    "from sklearn.preprocessing import PowerTransformer\n",
    "pt=PowerTransformer(method='yeo-johnson') \n",
    "X_power=pt.fit_transform(combi[num_feats])\n",
    "power=pd.DataFrame(X_power,columns=num_feats)\n",
    "\n",
    "skewness['sqrt_feats'] = sqrt_feats.skew()\n",
    "skewness['cubrt_feats'] = cubrt_feats.skew()\n",
    "skewness['log_feats'] = log_feats.skew()\n",
    "skewness['inv_feats'] = inv_feats.skew()\n",
    "skewness['minmax_feats'] = minmax_feats.skew()\n",
    "skewness['minmax_kurt'] = minmax_feats.kurtosis()\n",
    "skewness['std_feats'] = std_feats.skew()\n",
    "skewness['std_kurt'] = std_feats.kurtosis()\n",
    "skewness['power_skew'] = power.skew()\n",
    "skewness['power_kurt'] = power.kurtosis()\n",
    "\n",
    "skewness"
   ]
  },
  {
   "cell_type": "markdown",
   "metadata": {},
   "source": [
    "### Scaling Doesnt impact skewness and kurtosis\n",
    "## Power transformer most effectinve in redicucing the skewness"
   ]
  },
  {
   "cell_type": "code",
   "execution_count": 92,
   "metadata": {},
   "outputs": [
    {
     "name": "stdout",
     "output_type": "stream",
     "text": [
      "Item_Weight Does not contain outliers\n",
      "Item_Visibility Contains outliers\n",
      "Item_MRP Contains outliers\n",
      "Outlet_Establishment_Year Contains outliers\n"
     ]
    },
    {
     "data": {
      "text/plain": [
       "['Item_Visibility', 'Item_MRP', 'Outlet_Establishment_Year']"
      ]
     },
     "execution_count": 92,
     "metadata": {},
     "output_type": "execute_result"
    }
   ],
   "source": [
    "outliers = []\n",
    "def detect_outliers_iqr(data):\n",
    "    data = sorted(data)\n",
    "    q1 = np.percentile(data, 25)\n",
    "    q3 = np.percentile(data, 75)\n",
    "    # print(q1, q3)\n",
    "    IQR = q3-q1\n",
    "    lwr_bound = q1-(1.5*IQR)\n",
    "    upr_bound = q3+(1.5*IQR)\n",
    "    # print(lwr_bound, upr_bound)\n",
    "    for i in data: \n",
    "        if (i<lwr_bound or i>upr_bound):\n",
    "            outliers.append(i)\n",
    "    return outliers# Driver code\n",
    "out_var=[]\n",
    "for i in num_feats:\n",
    "    sample_outliers = detect_outliers_iqr(combi[i])\n",
    "    if len(sample_outliers)>0:\n",
    "        print(i,'Contains outliers')\n",
    "        out_var.append(i)\n",
    "    else:\n",
    "        print(i,'Does not contain outliers')\n",
    "    #print(\"Outliers from IQR method for variable\",i,\": \", sample_outliers)\n",
    "    \n",
    "out_var"
   ]
  },
  {
   "cell_type": "code",
   "execution_count": 94,
   "metadata": {},
   "outputs": [
    {
     "data": {
      "image/png": "[encoded data removed]",
      "text/plain": [
       "<Figure size 432x288 with 1 Axes>"
      ]
     },
     "metadata": {
      "needs_background": "light"
     },
     "output_type": "display_data"
    }
   ],
   "source": [
    "import seaborn as sns\n",
    "ax = sns.boxplot(data=combi[out_var], orient=\"h\", palette=\"Set2\")"
   ]
  },
  {
   "cell_type": "code",
   "execution_count": 103,
   "metadata": {},
   "outputs": [
    {
     "name": "stdout",
     "output_type": "stream",
     "text": [
      "Item_Visibility Contains outliers\n",
      "Item_MRP Contains outliers\n",
      "Outlet_Establishment_Year Contains outliers\n"
     ]
    },
    {
     "data": {
      "image/png": "[encoded data removed]",
      "text/plain": [
       "<Figure size 432x288 with 1 Axes>"
      ]
     },
     "metadata": {
      "needs_background": "light"
     },
     "output_type": "display_data"
    }
   ],
   "source": [
    "trans = StandardScaler()\n",
    "data = trans.fit_transform(combi[out_var])\n",
    "# convert the array back to a dataframe\n",
    "std_feats = pd.DataFrame(data,columns=out_var)\n",
    "\n",
    "for i in out_var:\n",
    "    sample_outliers = detect_outliers_iqr(std_feats[i])\n",
    "    if len(sample_outliers)>0:\n",
    "        print(i,'Contains outliers')\n",
    "        #out_var.append(i)\n",
    "    else:\n",
    "        print(i,'Does not contain outliers')\n",
    "ax = sns.boxplot(data=std_feats, orient=\"h\", palette=\"Set2\")"
   ]
  },
  {
   "cell_type": "code",
   "execution_count": 139,
   "metadata": {},
   "outputs": [
    {
     "data": {
      "text/html": [
       "<div>\n",
       "<style scoped>\n",
       "    .dataframe tbody tr th:only-of-type {\n",
       "        vertical-align: middle;\n",
       "    }\n",
       "\n",
       "    .dataframe tbody tr th {\n",
       "        vertical-align: top;\n",
       "    }\n",
       "\n",
       "    .dataframe thead th {\n",
       "        text-align: right;\n",
       "    }\n",
       "</style>\n",
       "<table border=\"1\" class=\"dataframe\">\n",
       "  <thead>\n",
       "    <tr style=\"text-align: right;\">\n",
       "      <th></th>\n",
       "      <th>Item_Weight</th>\n",
       "      <th>Item_Fat_Content</th>\n",
       "      <th>Item_Visibility</th>\n",
       "      <th>Item_MRP</th>\n",
       "      <th>Outlet_Establishment_Year</th>\n",
       "    </tr>\n",
       "  </thead>\n",
       "  <tbody>\n",
       "    <tr>\n",
       "      <th>0</th>\n",
       "      <td>0.824939</td>\n",
       "      <td>0.739212</td>\n",
       "      <td>0.969852</td>\n",
       "      <td>1.752511</td>\n",
       "      <td>0.139681</td>\n",
       "    </tr>\n",
       "    <tr>\n",
       "      <th>1</th>\n",
       "      <td>1.623224</td>\n",
       "      <td>1.352792</td>\n",
       "      <td>0.907063</td>\n",
       "      <td>1.493696</td>\n",
       "      <td>1.334228</td>\n",
       "    </tr>\n",
       "    <tr>\n",
       "      <th>2</th>\n",
       "      <td>1.111729</td>\n",
       "      <td>0.739212</td>\n",
       "      <td>0.956000</td>\n",
       "      <td>0.009874</td>\n",
       "      <td>0.139681</td>\n",
       "    </tr>\n",
       "    <tr>\n",
       "      <th>3</th>\n",
       "      <td>1.513233</td>\n",
       "      <td>1.352792</td>\n",
       "      <td>1.281712</td>\n",
       "      <td>0.661838</td>\n",
       "      <td>0.020226</td>\n",
       "    </tr>\n",
       "    <tr>\n",
       "      <th>4</th>\n",
       "      <td>0.912325</td>\n",
       "      <td>0.739212</td>\n",
       "      <td>1.281712</td>\n",
       "      <td>1.403623</td>\n",
       "      <td>1.293777</td>\n",
       "    </tr>\n",
       "  </tbody>\n",
       "</table>\n",
       "</div>"
      ],
      "text/plain": [
       "   Item_Weight  Item_Fat_Content  Item_Visibility  Item_MRP  \\\n",
       "0     0.824939          0.739212         0.969852  1.752511   \n",
       "1     1.623224          1.352792         0.907063  1.493696   \n",
       "2     1.111729          0.739212         0.956000  0.009874   \n",
       "3     1.513233          1.352792         1.281712  0.661838   \n",
       "4     0.912325          0.739212         1.281712  1.403623   \n",
       "\n",
       "   Outlet_Establishment_Year  \n",
       "0                   0.139681  \n",
       "1                   1.334228  \n",
       "2                   0.139681  \n",
       "3                   0.020226  \n",
       "4                   1.293777  "
      ]
     },
     "execution_count": 139,
     "metadata": {},
     "output_type": "execute_result"
    }
   ],
   "source": [
    "from scipy import stats\n",
    "z = []\n",
    "zscore = pd.DataFrame()\n",
    "for i in num_features:\n",
    "    z=np.abs(stats.zscore(combi[i]))\n",
    "    #print(z)\n",
    "    #threshold=3\n",
    "    #np.where(z>3, print('Outlier Varaible:',i),print('No Outlier variable',i))\n",
    "    #print(i,\"Outliers\",np.where(z>3))\n",
    "    #z =  pd.DataFrame(({'z-score%f'i:z}))\n",
    "    zscore[i] = z\n",
    "    #if z['z-score']>1:\n",
    "    #    print(i)\n",
    "(zscore.head())"
   ]
  },
  {
   "cell_type": "code",
   "execution_count": 145,
   "metadata": {},
   "outputs": [],
   "source": [
    "x = pd.DataFrame()\n",
    "for i in zscore.columns:\n",
    "    x[i] = np.where(zscore[i]>3,1,0)"
   ]
  },
  {
   "cell_type": "code",
   "execution_count": 147,
   "metadata": {},
   "outputs": [
    {
     "ename": "SyntaxError",
     "evalue": "invalid syntax (<ipython-input-147-5dd3f033ffeb>, line 1)",
     "output_type": "error",
     "traceback": [
      "\u001b[1;36m  File \u001b[1;32m\"<ipython-input-147-5dd3f033ffeb>\"\u001b[1;36m, line \u001b[1;32m1\u001b[0m\n\u001b[1;33m    if x=1:\u001b[0m\n\u001b[1;37m        ^\u001b[0m\n\u001b[1;31mSyntaxError\u001b[0m\u001b[1;31m:\u001b[0m invalid syntax\n"
     ]
    }
   ],
   "source": [
    "if x=1:\n",
    "    x.columns"
   ]
  },
  {
   "cell_type": "code",
   "execution_count": 111,
   "metadata": {},
   "outputs": [
    {
     "data": {
      "image/png": "[encoded data removed]",
      "text/plain": [
       "<Figure size 432x288 with 1 Axes>"
      ]
     },
     "metadata": {
      "needs_background": "light"
     },
     "output_type": "display_data"
    },
    {
     "data": {
      "image/png": "[encoded data removed]",
      "text/plain": [
       "<Figure size 432x288 with 1 Axes>"
      ]
     },
     "metadata": {
      "needs_background": "light"
     },
     "output_type": "display_data"
    },
    {
     "data": {
      "image/png": "[encoded data removed]",
      "text/plain": [
       "<Figure size 432x288 with 1 Axes>"
      ]
     },
     "metadata": {
      "needs_background": "light"
     },
     "output_type": "display_data"
    },
    {
     "data": {
      "image/png": "[encoded data removed]",
      "text/plain": [
       "<Figure size 432x288 with 1 Axes>"
      ]
     },
     "metadata": {
      "needs_background": "light"
     },
     "output_type": "display_data"
    },
    {
     "data": {
      "image/png": "[encoded data removed]",
      "text/plain": [
       "<Figure size 432x288 with 1 Axes>"
      ]
     },
     "metadata": {
      "needs_background": "light"
     },
     "output_type": "display_data"
    },
    {
     "data": {
      "image/png": "[encoded data removed]",
      "text/plain": [
       "<Figure size 432x288 with 1 Axes>"
      ]
     },
     "metadata": {
      "needs_background": "light"
     },
     "output_type": "display_data"
    },
    {
     "data": {
      "image/png": "[encoded data removed]",
      "text/plain": [
       "<Figure size 432x288 with 1 Axes>"
      ]
     },
     "metadata": {
      "needs_background": "light"
     },
     "output_type": "display_data"
    },
    {
     "data": {
      "image/png": "[encoded data removed]",
      "text/plain": [
       "<Figure size 432x288 with 1 Axes>"
      ]
     },
     "metadata": {
      "needs_background": "light"
     },
     "output_type": "display_data"
    }
   ],
   "source": [
    "for i in out_var:\n",
    "    combi.boxplot(column=i)\n",
    "    plt.show()"
   ]
  },
  {
   "cell_type": "code",
   "execution_count": null,
   "metadata": {},
   "outputs": [],
   "source": [
    "from scipy import stats\n",
    "\n",
    "for i in out_var:\n",
    "    z=np.abs(stats.zscore(combi[i]))\n",
    "#print(z)\n",
    "    threshold=3\n",
    "    print(i,\"Outliers\",np.where(z>3))"
   ]
  },
  {
   "cell_type": "markdown",
   "metadata": {},
   "source": [
    "### Outlier Grubbs test"
   ]
  },
  {
   "cell_type": "code",
   "execution_count": 149,
   "metadata": {},
   "outputs": [],
   "source": [
    "import numpy as np\n",
    "import scipy.stats as stats\n",
    "x = np.array([12,13,14,19,21,23])\n",
    "y = np.array([12,13,14,19,21,23,45])\n",
    "def grubbs_test(x):\n",
    "    n = len(x)\n",
    "    mean_x = np.mean(x)\n",
    "    sd_x = np.std(x)\n",
    "    numerator = max(abs(x-mean_x))\n",
    "    g_calculated = numerator/sd_x\n",
    "    print(\"Grubbs Calculated Value:\",g_calculated)\n",
    "    t_value = stats.t.ppf(1 - 0.05 / (2 * n), n - 2)\n",
    "    g_critical = ((n - 1) * np.sqrt(np.square(t_value))) / (np.sqrt(n) * np.sqrt(n - 2 + np.square(t_value)))\n",
    "    print(\"Grubbs Critical Value:\",g_critical)\n",
    "    if g_critical > g_calculated:\n",
    "        print(\"From grubbs_test we observe that calculated value is lesser than critical value, Accept null hypothesis and conclude that there is no outliers\\n\")\n",
    "    else:\n",
    "        print(\"From grubbs_test we observe that calculated value is greater than critical value, Reject null hypothesis and conclude that there is an outliers\\n\")"
   ]
  },
  {
   "cell_type": "code",
   "execution_count": 153,
   "metadata": {},
   "outputs": [
    {
     "name": "stdout",
     "output_type": "stream",
     "text": [
      "For Item_Weight\n",
      "Grubbs Calculated Value: 2.0210178948752864\n",
      "Grubbs Critical Value: 4.6361986878998955\n",
      "From grubbs_test we observe that calculated value is lesser than critical value, Accept null hypothesis and conclude that there is no outliers\n",
      "\n",
      "For Item_Visibility\n",
      "Grubbs Calculated Value: 5.1001665576972695\n",
      "Grubbs Critical Value: 4.6361986878998955\n",
      "From grubbs_test we observe that calculated value is greater than critical value, Reject null hypothesis and conclude that there is an outliers\n",
      "\n",
      "For Item_MRP\n",
      "Grubbs Calculated Value: 2.027606099865523\n",
      "Grubbs Critical Value: 4.6361986878998955\n",
      "From grubbs_test we observe that calculated value is lesser than critical value, Accept null hypothesis and conclude that there is no outliers\n",
      "\n",
      "For Outlet_Establishment_Year\n",
      "Grubbs Calculated Value: 1.5326861394852864\n",
      "Grubbs Critical Value: 4.6361986878998955\n",
      "From grubbs_test we observe that calculated value is lesser than critical value, Accept null hypothesis and conclude that there is no outliers\n",
      "\n"
     ]
    }
   ],
   "source": [
    "for i in num_feats:\n",
    "    print(\"For\",i)\n",
    "    grubbs_test(combi[i])"
   ]
  },
  {
   "cell_type": "markdown",
   "metadata": {},
   "source": [
    "## Detecting Columns that contain outlier"
   ]
  },
  {
   "cell_type": "code",
   "execution_count": 156,
   "metadata": {},
   "outputs": [
    {
     "data": {
      "text/plain": [
       "Index(['Item_Visibility'], dtype='object')"
      ]
     },
     "execution_count": 156,
     "metadata": {},
     "output_type": "execute_result"
    }
   ],
   "source": [
    "df = combi.select_dtypes(include=numerics)\n",
    "Q1 = df.quantile(0.25)\n",
    "Q3 = df.quantile(0.75)\n",
    "IQR = Q3 - Q1\n",
    "df.columns[((df < (Q1 - 1.5 * IQR)) |(df > (Q3 + 1.5 * IQR))).any(axis=0)]"
   ]
  },
  {
   "cell_type": "markdown",
   "metadata": {},
   "source": [
    "### Anaother method"
   ]
  },
  {
   "cell_type": "code",
   "execution_count": 157,
   "metadata": {},
   "outputs": [],
   "source": [
    "def out_iqr(df , column):\n",
    "    global lower,upper\n",
    "    q25, q75 = np.quantile(df[column], 0.25), np.quantile(df[column], 0.75)\n",
    "    # calculate the IQR\n",
    "    iqr = q75 - q25\n",
    "    # calculate the outlier cutoff\n",
    "    cut_off = iqr * 1.5\n",
    "    # calculate the lower and upper bound value\n",
    "    lower, upper = q25 - cut_off, q75 + cut_off\n",
    "    print('The IQR is',iqr)\n",
    "    print('The lower bound value is', lower)\n",
    "    print('The upper bound value is', upper)\n",
    "    # Calculate the number of records below and above lower and above bound value respectively\n",
    "    df1 = df[df[column] > upper]\n",
    "    df2 = df[df[column] < lower]\n",
    "    return print('Total number of outliers are', df1.shape[0]+ df2.shape[0])"
   ]
  },
  {
   "cell_type": "code",
   "execution_count": 158,
   "metadata": {},
   "outputs": [
    {
     "name": "stdout",
     "output_type": "stream",
     "text": [
      "The IQR is 0.067001571\n",
      "The lower bound value is -0.073466674\n",
      "The upper bound value is 0.19453961\n",
      "Total number of outliers are 261\n"
     ]
    }
   ],
   "source": [
    "out_iqr(df,'Item_Visibility')"
   ]
  },
  {
   "cell_type": "code",
   "execution_count": 160,
   "metadata": {},
   "outputs": [
    {
     "name": "stdout",
     "output_type": "stream",
     "text": [
      "Item_Weight\n",
      "The IQR is 6.699999999999999\n",
      "The lower bound value is -0.7499999999999982\n",
      "The upper bound value is 26.049999999999997\n",
      "Total number of outliers are 0\n",
      "Item_Visibility\n",
      "The IQR is 0.067001571\n",
      "The lower bound value is -0.073466674\n",
      "The upper bound value is 0.19453961\n",
      "Total number of outliers are 261\n",
      "Item_MRP\n",
      "The IQR is 91.84360000000001\n",
      "The lower bound value is -43.7534\n",
      "The upper bound value is 323.621\n",
      "Total number of outliers are 0\n",
      "Outlet_Establishment_Year\n",
      "The IQR is 17.0\n",
      "The lower bound value is 1961.5\n",
      "The upper bound value is 2029.5\n",
      "Total number of outliers are 0\n"
     ]
    }
   ],
   "source": [
    "for i in num_feats:\n",
    "    print(i)\n",
    "    out_iqr(df,i)"
   ]
  },
  {
   "cell_type": "code",
   "execution_count": 230,
   "metadata": {},
   "outputs": [],
   "source": [
    "df1 = df.copy()\n",
    "df1['Item_Visibility'] = np.where(df1['Item_Visibility'] >= 0.19453961,       0.19453961,\n",
    "        np.where(df1['Item_Visibility'] <= -0.073466674,        -0.073466674,        df1['Item_Visibility']))"
   ]
  },
  {
   "cell_type": "code",
   "execution_count": 231,
   "metadata": {},
   "outputs": [
    {
     "name": "stdout",
     "output_type": "stream",
     "text": [
      "Item_Weight\n",
      "The IQR is 6.699999999999999\n",
      "The lower bound value is -0.7499999999999982\n",
      "The upper bound value is 26.049999999999997\n",
      "Total number of outliers are 0\n",
      "Item_Visibility\n",
      "The IQR is 0.067001571\n",
      "The lower bound value is -0.073466674\n",
      "The upper bound value is 0.19453961\n",
      "Total number of outliers are 0\n",
      "Item_MRP\n",
      "The IQR is 91.84360000000001\n",
      "The lower bound value is -43.7534\n",
      "The upper bound value is 323.621\n",
      "Total number of outliers are 0\n",
      "Outlet_Establishment_Year\n",
      "The IQR is 17.0\n",
      "The lower bound value is 1961.5\n",
      "The upper bound value is 2029.5\n",
      "Total number of outliers are 0\n"
     ]
    }
   ],
   "source": [
    "for i in num_feats:\n",
    "    print(i)\n",
    "    out_iqr(df1,i)"
   ]
  },
  {
   "cell_type": "code",
   "execution_count": 162,
   "metadata": {},
   "outputs": [
    {
     "data": {
      "text/plain": [
       "<matplotlib.patches.Polygon at 0x2996f9619c8>"
      ]
     },
     "execution_count": 162,
     "metadata": {},
     "output_type": "execute_result"
    },
    {
     "data": {
      "image/png": "[encoded data removed]",
      "text/plain": [
       "<Figure size 720x432 with 1 Axes>"
      ]
     },
     "metadata": {
      "needs_background": "light"
     },
     "output_type": "display_data"
    }
   ],
   "source": [
    "plt.figure(figsize = (10,6))\n",
    "sns.distplot(df.Item_Visibility, kde=False)\n",
    "plt.axvspan(xmin = lower,xmax= df.Item_Visibility.min(),alpha=0.2, color='red')\n",
    "plt.axvspan(xmin = upper,xmax= df.Item_Visibility.max(),alpha=0.2, color='red')"
   ]
  },
  {
   "cell_type": "markdown",
   "metadata": {},
   "source": [
    "### WIth STD"
   ]
  },
  {
   "cell_type": "code",
   "execution_count": 163,
   "metadata": {},
   "outputs": [],
   "source": [
    "def out_std(df, column):\n",
    "    global lower,upper\n",
    "    # calculate the mean and standard deviation of the data frame\n",
    "    data_mean, data_std = df[column].mean(), df[column].std()\n",
    "    # calculate the cutoff value\n",
    "    cut_off = data_std * 3\n",
    "    # calculate the lower and upper bound value\n",
    "    lower, upper = data_mean - cut_off, data_mean + cut_off\n",
    "    print('The lower bound value is', lower)\n",
    "    print('The upper bound value is', upper)\n",
    "    # Calculate the number of records below and above lower and above bound value respectively\n",
    "    df1 = df[df[column] > upper]\n",
    "    df2 = df[df[column] < lower]\n",
    "    return print('Total number of outliers are', df1.shape[0]+ df2.shape[0])"
   ]
  },
  {
   "cell_type": "code",
   "execution_count": 164,
   "metadata": {},
   "outputs": [
    {
     "name": "stdout",
     "output_type": "stream",
     "text": [
      "Item_Weight\n",
      "The lower bound value is 0.09017549622102905\n",
      "The upper bound value is 25.49553296106784\n",
      "Total number of outliers are 0\n",
      "Item_Visibility\n",
      "The lower bound value is -0.08842300567127566\n",
      "The upper bound value is 0.22032856581926258\n",
      "Total number of outliers are 173\n",
      "Item_MRP\n",
      "The lower bound value is -45.255836784365414\n",
      "The upper bound value is 327.2657913042185\n",
      "Total number of outliers are 0\n",
      "Outlet_Establishment_Year\n",
      "The lower bound value is 1972.715689885482\n",
      "The upper bound value is 2022.945673110857\n",
      "Total number of outliers are 0\n"
     ]
    }
   ],
   "source": [
    "for i in num_feats:\n",
    "    print(i)\n",
    "    out_std(df,i)"
   ]
  },
  {
   "cell_type": "markdown",
   "metadata": {},
   "source": [
    "### Z Score Method"
   ]
  },
  {
   "cell_type": "code",
   "execution_count": 165,
   "metadata": {},
   "outputs": [],
   "source": [
    "def out_zscore(data):\n",
    "    global outliers,zscore\n",
    "    outliers = []\n",
    "    zscore = []\n",
    "    threshold = 3\n",
    "    mean = np.mean(data)\n",
    "    std = np.std(data)\n",
    "    for i in data:\n",
    "        z_score= (i - mean)/std \n",
    "        zscore.append(z_score)\n",
    "        if np.abs(z_score) > threshold:\n",
    "            outliers.append(i)\n",
    "    return print(\"Total number of outliers are\",len(outliers))"
   ]
  },
  {
   "cell_type": "code",
   "execution_count": 169,
   "metadata": {},
   "outputs": [
    {
     "name": "stdout",
     "output_type": "stream",
     "text": [
      "Item_Weight\n",
      "Total number of outliers are 0\n",
      "Item_Visibility\n",
      "Total number of outliers are 173\n",
      "Item_MRP\n",
      "Total number of outliers are 0\n",
      "Outlet_Establishment_Year\n",
      "Total number of outliers are 0\n"
     ]
    }
   ],
   "source": [
    "for i in num_feats:\n",
    "    print(i)\n",
    "    out_zscore(df[i])"
   ]
  },
  {
   "cell_type": "markdown",
   "metadata": {},
   "source": [
    "### Isolation Forest"
   ]
  },
  {
   "cell_type": "code",
   "execution_count": 171,
   "metadata": {},
   "outputs": [
    {
     "data": {
      "image/png": "[encoded data removed]",
      "text/plain": [
       "<Figure size 1440x360 with 3 Axes>"
      ]
     },
     "metadata": {},
     "output_type": "display_data"
    }
   ],
   "source": [
    "#Import necessary libraries\n",
    "from sklearn.ensemble import IsolationForest\n",
    "#The required columns\n",
    "\n",
    "#Plotting the sub plot\n",
    "fig, axs = plt.subplots(1, 3, figsize=(20, 5), facecolor='w', edgecolor='k')\n",
    "axs = axs.ravel()\n",
    "\n",
    "for i, column in enumerate(cols):\n",
    "    isolation_forest = IsolationForest(contamination='auto')\n",
    "    isolation_forest.fit(df[num_feats].values.reshape(-1,1))\n",
    "\n",
    "    xx = np.linspace(df[num_feats].min(), df[num_feats].max(), len(df)).reshape(-1,1)\n",
    "    anomaly_score = isolation_forest.decision_function(xx)\n",
    "    outlier = isolation_forest.predict(xx)\n",
    "    \n",
    "    axs[i].plot(xx, anomaly_score, label='anomaly score')\n",
    "    axs[i].fill_between(xx.T[0], np.min(anomaly_score), np.max(anomaly_score), \n",
    "                     where=outlier==-1, color='r', \n",
    "                     alpha=.4, label='outlier region')\n",
    "    axs[i].legend()\n",
    "    axs[i].set_title(column)"
   ]
  },
  {
   "cell_type": "code",
   "execution_count": 172,
   "metadata": {},
   "outputs": [],
   "source": [
    "# identify outliers in the training dataset\n",
    "iso = IsolationForest(contamination=0.1)\n",
    "yhat = iso.fit_predict(df)"
   ]
  },
  {
   "cell_type": "code",
   "execution_count": 173,
   "metadata": {},
   "outputs": [
    {
     "data": {
      "text/plain": [
       "array([ 1, -1,  1, ...,  1,  1,  1])"
      ]
     },
     "execution_count": 173,
     "metadata": {},
     "output_type": "execute_result"
    }
   ],
   "source": [
    "yhat"
   ]
  },
  {
   "cell_type": "code",
   "execution_count": 176,
   "metadata": {},
   "outputs": [
    {
     "name": "stdout",
     "output_type": "stream",
     "text": [
      "Identified outliers: 29\n",
      "Non-outlier observations: 9971\n"
     ]
    }
   ],
   "source": [
    "# identify outliers with standard deviation\n",
    "from numpy.random import seed\n",
    "from numpy.random import randn\n",
    "from numpy import mean\n",
    "from numpy import std\n",
    "# seed the random number generator\n",
    "seed(1)\n",
    "# generate univariate observations\n",
    "data = 5 * randn(10000) + 50\n",
    "# calculate summary statistics\n",
    "data_mean, data_std = mean(data), std(data)\n",
    "# identify outliers\n",
    "cut_off = data_std * 3\n",
    "lower, upper = data_mean - cut_off, data_mean + cut_off\n",
    "# identify outliers\n",
    "outliers = [x for x in data if x < lower or x > upper]\n",
    "print('Identified outliers: %d' % len(outliers))\n",
    "# remove outliers\n",
    "outliers_removed = [x for x in data if x >= lower and x <= upper]\n",
    "print('Non-outlier observations: %d' % len(outliers_removed))"
   ]
  },
  {
   "cell_type": "code",
   "execution_count": 177,
   "metadata": {},
   "outputs": [
    {
     "data": {
      "text/plain": [
       "(10000,)"
      ]
     },
     "execution_count": 177,
     "metadata": {},
     "output_type": "execute_result"
    }
   ],
   "source": [
    "data.shape"
   ]
  },
  {
   "cell_type": "code",
   "execution_count": 245,
   "metadata": {},
   "outputs": [],
   "source": [
    "df3 =pd.DataFrame()\n",
    "def Outliers(col_name, creditCardData):\n",
    "\n",
    "    mean = creditCardData[col_name].mean()\n",
    "    std = creditCardData[col_name].std()\n",
    "\n",
    "    upper = mean + 3 * std\n",
    "    lower = mean - 3 * std\n",
    "\n",
    "    print('Upper bound: ', upper)\n",
    "    print('Lower bound: ', lower, '\\n')\n",
    "\n",
    "    no_of_out_up = sum(creditCardData[col_name]>upper)\n",
    "    no_of_out_lo = sum(creditCardData[col_name]<lower)\n",
    "\n",
    "    print('No of outliers above upperbound: ', no_of_out_up)\n",
    "    print('No of outliers below lowerbound: ', no_of_out_lo, '\\n')\n",
    "\n",
    "    print('Removing outliers____________\\n')\n",
    "    creditCardData[col_name][creditCardData[col_name]>upper] = upper\n",
    "    creditCardData[col_name][creditCardData[col_name]<lower] = lower\n",
    "\n",
    "    no_of_out_up = sum(creditCardData[col_name]>upper)\n",
    "    no_of_out_lo = sum(creditCardData[col_name]<lower)\n",
    "\n",
    "\n",
    "    print('No of outliers above upperbound: ', no_of_out_up)\n",
    "    print('No of outliers below lowerbound: ', no_of_out_lo, '\\n')\n",
    "    df3[col_name] = creditCardData[col_name]\n",
    "    return df3"
   ]
  },
  {
   "cell_type": "code",
   "execution_count": 226,
   "metadata": {},
   "outputs": [
    {
     "name": "stdout",
     "output_type": "stream",
     "text": [
      "Item_Weight\n",
      "Item_Visibility\n",
      "Item_MRP\n",
      "Outlet_Establishment_Year\n"
     ]
    }
   ],
   "source": [
    "for i in num_feats:\n",
    "    print(i)"
   ]
  },
  {
   "cell_type": "code",
   "execution_count": 213,
   "metadata": {},
   "outputs": [],
   "source": [
    "\n",
    "upper_limit = df1['Item_Visibility'].quantile(0.99)\n",
    "lower_limit = df1['Item_Visibility'].quantile(0.01)\n",
    "df1['Item_Visibility'] = np.where(df1['Item_Visibility'] >= upper_limit,        upper_limit,\n",
    "        np.where(df1['Item_Visibility'] <= lower_limit,        lower_limit,        df1['Item_Visibility']))"
   ]
  },
  {
   "cell_type": "code",
   "execution_count": 217,
   "metadata": {},
   "outputs": [],
   "source": [
    "percentile25 = df1['Item_Visibility'].quantile(0.25)\n",
    "percentile75 = df1['Item_Visibility'] .quantile(0.75)\n",
    "iqr = percentile75 - percentile25\n",
    "upper_limit = percentile75 + 1.5 * iqr\n",
    "lower_limit = percentile25 - 1.5 * iqr\n",
    "df1['Item_Visibility'] = np.where(df1['Item_Visibility'] >= upper_limit,        upper_limit,\n",
    "        np.where(df1['Item_Visibility'] <= lower_limit,        lower_limit,        df1['Item_Visibility']))"
   ]
  },
  {
   "cell_type": "code",
   "execution_count": null,
   "metadata": {},
   "outputs": [],
   "source": [
    "data.loc[data['Age']>=73,'Age']=73"
   ]
  },
  {
   "cell_type": "code",
   "execution_count": 246,
   "metadata": {},
   "outputs": [
    {
     "name": "stdout",
     "output_type": "stream",
     "text": [
      "Item_Weight\n",
      "Upper bound:  25.49553296106784\n",
      "Lower bound:  0.09017549622102905 \n",
      "\n",
      "No of outliers above upperbound:  0\n",
      "No of outliers below lowerbound:  0 \n",
      "\n",
      "Removing outliers____________\n",
      "\n",
      "No of outliers above upperbound:  0\n",
      "No of outliers below lowerbound:  0 \n",
      "\n",
      "Item_Visibility\n",
      "Upper bound:  0.21424099265265967\n",
      "Lower bound:  -0.0833482846936711 \n",
      "\n",
      "No of outliers above upperbound:  194\n",
      "No of outliers below lowerbound:  0 \n",
      "\n",
      "Removing outliers____________\n",
      "\n",
      "No of outliers above upperbound:  0\n",
      "No of outliers below lowerbound:  0 \n",
      "\n",
      "Item_MRP\n",
      "Upper bound:  327.2657913042185\n",
      "Lower bound:  -45.255836784365414 \n",
      "\n",
      "No of outliers above upperbound:  0\n",
      "No of outliers below lowerbound:  0 \n",
      "\n",
      "Removing outliers____________\n",
      "\n",
      "No of outliers above upperbound:  0\n",
      "No of outliers below lowerbound:  0 \n",
      "\n",
      "Outlet_Establishment_Year\n",
      "Upper bound:  2022.945673110857\n",
      "Lower bound:  1972.715689885482 \n",
      "\n",
      "No of outliers above upperbound:  0\n",
      "No of outliers below lowerbound:  0 \n",
      "\n",
      "Removing outliers____________\n",
      "\n",
      "No of outliers above upperbound:  0\n",
      "No of outliers below lowerbound:  0 \n",
      "\n"
     ]
    }
   ],
   "source": [
    "df2=pd.DataFrame()\n",
    "df1= df.copy()\n",
    "for i in num_feats:\n",
    "    print(i)\n",
    "    df2 =(Outliers(i,df1))"
   ]
  },
  {
   "cell_type": "code",
   "execution_count": 247,
   "metadata": {},
   "outputs": [
    {
     "data": {
      "text/html": [
       "<div>\n",
       "<style scoped>\n",
       "    .dataframe tbody tr th:only-of-type {\n",
       "        vertical-align: middle;\n",
       "    }\n",
       "\n",
       "    .dataframe tbody tr th {\n",
       "        vertical-align: top;\n",
       "    }\n",
       "\n",
       "    .dataframe thead th {\n",
       "        text-align: right;\n",
       "    }\n",
       "</style>\n",
       "<table border=\"1\" class=\"dataframe\">\n",
       "  <thead>\n",
       "    <tr style=\"text-align: right;\">\n",
       "      <th></th>\n",
       "      <th>Item_Weight</th>\n",
       "      <th>Item_Visibility</th>\n",
       "      <th>Item_MRP</th>\n",
       "      <th>Outlet_Establishment_Year</th>\n",
       "    </tr>\n",
       "  </thead>\n",
       "  <tbody>\n",
       "    <tr>\n",
       "      <th>0</th>\n",
       "      <td>9.30</td>\n",
       "      <td>0.016047</td>\n",
       "      <td>249.8092</td>\n",
       "      <td>1999</td>\n",
       "    </tr>\n",
       "    <tr>\n",
       "      <th>1</th>\n",
       "      <td>5.92</td>\n",
       "      <td>0.019278</td>\n",
       "      <td>48.2692</td>\n",
       "      <td>2009</td>\n",
       "    </tr>\n",
       "    <tr>\n",
       "      <th>2</th>\n",
       "      <td>17.50</td>\n",
       "      <td>0.016760</td>\n",
       "      <td>141.6180</td>\n",
       "      <td>1999</td>\n",
       "    </tr>\n",
       "    <tr>\n",
       "      <th>3</th>\n",
       "      <td>19.20</td>\n",
       "      <td>0.000000</td>\n",
       "      <td>182.0950</td>\n",
       "      <td>1998</td>\n",
       "    </tr>\n",
       "    <tr>\n",
       "      <th>4</th>\n",
       "      <td>8.93</td>\n",
       "      <td>0.000000</td>\n",
       "      <td>53.8614</td>\n",
       "      <td>1987</td>\n",
       "    </tr>\n",
       "    <tr>\n",
       "      <th>...</th>\n",
       "      <td>...</td>\n",
       "      <td>...</td>\n",
       "      <td>...</td>\n",
       "      <td>...</td>\n",
       "    </tr>\n",
       "    <tr>\n",
       "      <th>14199</th>\n",
       "      <td>10.50</td>\n",
       "      <td>0.013496</td>\n",
       "      <td>141.3154</td>\n",
       "      <td>1997</td>\n",
       "    </tr>\n",
       "    <tr>\n",
       "      <th>14200</th>\n",
       "      <td>7.60</td>\n",
       "      <td>0.142991</td>\n",
       "      <td>169.1448</td>\n",
       "      <td>2009</td>\n",
       "    </tr>\n",
       "    <tr>\n",
       "      <th>14201</th>\n",
       "      <td>10.00</td>\n",
       "      <td>0.073529</td>\n",
       "      <td>118.7440</td>\n",
       "      <td>2002</td>\n",
       "    </tr>\n",
       "    <tr>\n",
       "      <th>14202</th>\n",
       "      <td>15.30</td>\n",
       "      <td>0.000000</td>\n",
       "      <td>214.6218</td>\n",
       "      <td>2007</td>\n",
       "    </tr>\n",
       "    <tr>\n",
       "      <th>14203</th>\n",
       "      <td>9.50</td>\n",
       "      <td>0.104720</td>\n",
       "      <td>79.7960</td>\n",
       "      <td>2002</td>\n",
       "    </tr>\n",
       "  </tbody>\n",
       "</table>\n",
       "<p>14204 rows × 4 columns</p>\n",
       "</div>"
      ],
      "text/plain": [
       "       Item_Weight  Item_Visibility  Item_MRP  Outlet_Establishment_Year\n",
       "0             9.30         0.016047  249.8092                       1999\n",
       "1             5.92         0.019278   48.2692                       2009\n",
       "2            17.50         0.016760  141.6180                       1999\n",
       "3            19.20         0.000000  182.0950                       1998\n",
       "4             8.93         0.000000   53.8614                       1987\n",
       "...            ...              ...       ...                        ...\n",
       "14199        10.50         0.013496  141.3154                       1997\n",
       "14200         7.60         0.142991  169.1448                       2009\n",
       "14201        10.00         0.073529  118.7440                       2002\n",
       "14202        15.30         0.000000  214.6218                       2007\n",
       "14203         9.50         0.104720   79.7960                       2002\n",
       "\n",
       "[14204 rows x 4 columns]"
      ]
     },
     "execution_count": 247,
     "metadata": {},
     "output_type": "execute_result"
    }
   ],
   "source": [
    "df2"
   ]
  },
  {
   "cell_type": "code",
   "execution_count": 248,
   "metadata": {},
   "outputs": [
    {
     "ename": "IndexError",
     "evalue": "boolean index did not match indexed array along dimension 0; dimension is 4 but corresponding boolean dimension is 5",
     "output_type": "error",
     "traceback": [
      "\u001b[1;31m---------------------------------------------------------------------------\u001b[0m",
      "\u001b[1;31mIndexError\u001b[0m                                Traceback (most recent call last)",
      "\u001b[1;32m<ipython-input-248-1a6985066d0c>\u001b[0m in \u001b[0;36m<module>\u001b[1;34m\u001b[0m\n\u001b[1;32m----> 1\u001b[1;33m \u001b[0mdf2\u001b[0m\u001b[1;33m.\u001b[0m\u001b[0mcolumns\u001b[0m\u001b[1;33m[\u001b[0m\u001b[1;33m(\u001b[0m\u001b[1;33m(\u001b[0m\u001b[0mdf2\u001b[0m \u001b[1;33m<\u001b[0m \u001b[1;33m(\u001b[0m\u001b[0mQ1\u001b[0m \u001b[1;33m-\u001b[0m \u001b[1;36m1.5\u001b[0m \u001b[1;33m*\u001b[0m \u001b[0mIQR\u001b[0m\u001b[1;33m)\u001b[0m\u001b[1;33m)\u001b[0m \u001b[1;33m|\u001b[0m\u001b[1;33m(\u001b[0m\u001b[0mdf2\u001b[0m \u001b[1;33m>\u001b[0m \u001b[1;33m(\u001b[0m\u001b[0mQ3\u001b[0m \u001b[1;33m+\u001b[0m \u001b[1;36m1.5\u001b[0m \u001b[1;33m*\u001b[0m \u001b[0mIQR\u001b[0m\u001b[1;33m)\u001b[0m\u001b[1;33m)\u001b[0m\u001b[1;33m)\u001b[0m\u001b[1;33m.\u001b[0m\u001b[0many\u001b[0m\u001b[1;33m(\u001b[0m\u001b[0maxis\u001b[0m\u001b[1;33m=\u001b[0m\u001b[1;36m0\u001b[0m\u001b[1;33m)\u001b[0m\u001b[1;33m]\u001b[0m\u001b[1;33m\u001b[0m\u001b[1;33m\u001b[0m\u001b[0m\n\u001b[0m",
      "\u001b[1;32mD:\\Study\\Great Lakes\\INtro to python\\Anaconda\\lib\\site-packages\\pandas\\core\\indexes\\base.py\u001b[0m in \u001b[0;36m__getitem__\u001b[1;34m(self, key)\u001b[0m\n\u001b[0;32m   4112\u001b[0m             \u001b[0mkey\u001b[0m \u001b[1;33m=\u001b[0m \u001b[0mnp\u001b[0m\u001b[1;33m.\u001b[0m\u001b[0masarray\u001b[0m\u001b[1;33m(\u001b[0m\u001b[0mkey\u001b[0m\u001b[1;33m,\u001b[0m \u001b[0mdtype\u001b[0m\u001b[1;33m=\u001b[0m\u001b[0mbool\u001b[0m\u001b[1;33m)\u001b[0m\u001b[1;33m\u001b[0m\u001b[1;33m\u001b[0m\u001b[0m\n\u001b[0;32m   4113\u001b[0m \u001b[1;33m\u001b[0m\u001b[0m\n\u001b[1;32m-> 4114\u001b[1;33m         \u001b[0mresult\u001b[0m \u001b[1;33m=\u001b[0m \u001b[0mgetitem\u001b[0m\u001b[1;33m(\u001b[0m\u001b[0mkey\u001b[0m\u001b[1;33m)\u001b[0m\u001b[1;33m\u001b[0m\u001b[1;33m\u001b[0m\u001b[0m\n\u001b[0m\u001b[0;32m   4115\u001b[0m         \u001b[1;32mif\u001b[0m \u001b[1;32mnot\u001b[0m \u001b[0mis_scalar\u001b[0m\u001b[1;33m(\u001b[0m\u001b[0mresult\u001b[0m\u001b[1;33m)\u001b[0m\u001b[1;33m:\u001b[0m\u001b[1;33m\u001b[0m\u001b[1;33m\u001b[0m\u001b[0m\n\u001b[0;32m   4116\u001b[0m             \u001b[1;32mif\u001b[0m \u001b[0mnp\u001b[0m\u001b[1;33m.\u001b[0m\u001b[0mndim\u001b[0m\u001b[1;33m(\u001b[0m\u001b[0mresult\u001b[0m\u001b[1;33m)\u001b[0m \u001b[1;33m>\u001b[0m \u001b[1;36m1\u001b[0m\u001b[1;33m:\u001b[0m\u001b[1;33m\u001b[0m\u001b[1;33m\u001b[0m\u001b[0m\n",
      "\u001b[1;31mIndexError\u001b[0m: boolean index did not match indexed array along dimension 0; dimension is 4 but corresponding boolean dimension is 5"
     ]
    }
   ],
   "source": [
    "df2.columns[((df2 < (Q1 - 1.5 * IQR)) |(df2 > (Q3 + 1.5 * IQR))).any(axis=0)]"
   ]
  },
  {
   "cell_type": "code",
   "execution_count": 249,
   "metadata": {},
   "outputs": [
    {
     "name": "stdout",
     "output_type": "stream",
     "text": [
      "Item_Weight\n",
      "The lower bound value is 0.09017549622102905\n",
      "The upper bound value is 25.49553296106784\n",
      "Total number of outliers are 0\n",
      "Item_Visibility\n",
      "The lower bound value is -0.08271122996449709\n",
      "The upper bound value is 0.21344868649795523\n",
      "Total number of outliers are 199\n",
      "Item_MRP\n",
      "The lower bound value is -45.255836784365414\n",
      "The upper bound value is 327.2657913042185\n",
      "Total number of outliers are 0\n",
      "Outlet_Establishment_Year\n",
      "The lower bound value is 1972.715689885482\n",
      "The upper bound value is 2022.945673110857\n",
      "Total number of outliers are 0\n"
     ]
    }
   ],
   "source": [
    "for i in num_feats:\n",
    "    print(i)\n",
    "    out_std(df2,i)"
   ]
  },
  {
   "cell_type": "code",
   "execution_count": 202,
   "metadata": {},
   "outputs": [
    {
     "data": {
      "text/html": [
       "<div>\n",
       "<style scoped>\n",
       "    .dataframe tbody tr th:only-of-type {\n",
       "        vertical-align: middle;\n",
       "    }\n",
       "\n",
       "    .dataframe tbody tr th {\n",
       "        vertical-align: top;\n",
       "    }\n",
       "\n",
       "    .dataframe thead th {\n",
       "        text-align: right;\n",
       "    }\n",
       "</style>\n",
       "<table border=\"1\" class=\"dataframe\">\n",
       "  <thead>\n",
       "    <tr style=\"text-align: right;\">\n",
       "      <th></th>\n",
       "      <th>Item_Weight</th>\n",
       "      <th>Item_Fat_Content</th>\n",
       "      <th>Item_Visibility</th>\n",
       "      <th>Item_MRP</th>\n",
       "      <th>Outlet_Establishment_Year</th>\n",
       "    </tr>\n",
       "  </thead>\n",
       "  <tbody>\n",
       "    <tr>\n",
       "      <th>0</th>\n",
       "      <td>9.30</td>\n",
       "      <td>0</td>\n",
       "      <td>0.016047</td>\n",
       "      <td>249.8092</td>\n",
       "      <td>1999</td>\n",
       "    </tr>\n",
       "    <tr>\n",
       "      <th>1</th>\n",
       "      <td>5.92</td>\n",
       "      <td>1</td>\n",
       "      <td>0.019278</td>\n",
       "      <td>48.2692</td>\n",
       "      <td>2009</td>\n",
       "    </tr>\n",
       "    <tr>\n",
       "      <th>2</th>\n",
       "      <td>17.50</td>\n",
       "      <td>0</td>\n",
       "      <td>0.016760</td>\n",
       "      <td>141.6180</td>\n",
       "      <td>1999</td>\n",
       "    </tr>\n",
       "    <tr>\n",
       "      <th>3</th>\n",
       "      <td>19.20</td>\n",
       "      <td>1</td>\n",
       "      <td>0.000000</td>\n",
       "      <td>182.0950</td>\n",
       "      <td>1998</td>\n",
       "    </tr>\n",
       "    <tr>\n",
       "      <th>4</th>\n",
       "      <td>8.93</td>\n",
       "      <td>0</td>\n",
       "      <td>0.000000</td>\n",
       "      <td>53.8614</td>\n",
       "      <td>1987</td>\n",
       "    </tr>\n",
       "  </tbody>\n",
       "</table>\n",
       "</div>"
      ],
      "text/plain": [
       "   Item_Weight  Item_Fat_Content  Item_Visibility  Item_MRP  \\\n",
       "0         9.30                 0         0.016047  249.8092   \n",
       "1         5.92                 1         0.019278   48.2692   \n",
       "2        17.50                 0         0.016760  141.6180   \n",
       "3        19.20                 1         0.000000  182.0950   \n",
       "4         8.93                 0         0.000000   53.8614   \n",
       "\n",
       "   Outlet_Establishment_Year  \n",
       "0                       1999  \n",
       "1                       2009  \n",
       "2                       1999  \n",
       "3                       1998  \n",
       "4                       1987  "
      ]
     },
     "execution_count": 202,
     "metadata": {},
     "output_type": "execute_result"
    }
   ],
   "source": [
    "\n",
    "# Computing 10th, 90th percentiles and replacing the outliers\n",
    "tenth_percentile = np.percentile(sample, 10)\n",
    "ninetieth_percentile = np.percentile(sample, 90)\n",
    "# print(tenth_percentile, ninetieth_percentile)b = np.where(sample<tenth_percentile, tenth_percentile, sample)\n",
    "b = np.where(b>ninetieth_percentile, ninetieth_percentile, b)\n",
    "b = np.where(b<tenth_percentile, ninetieth_percentile, b)\n",
    "# print(\"Sample:\", sample)\n",
    "print(\"New array:\",b)"
   ]
  },
  {
   "cell_type": "code",
   "execution_count": 185,
   "metadata": {},
   "outputs": [
    {
     "ename": "AttributeError",
     "evalue": "'list' object has no attribute 'value_counts'",
     "output_type": "error",
     "traceback": [
      "\u001b[1;31m---------------------------------------------------------------------------\u001b[0m",
      "\u001b[1;31mAttributeError\u001b[0m                            Traceback (most recent call last)",
      "\u001b[1;32m<ipython-input-185-4e83b54723d5>\u001b[0m in \u001b[0;36m<module>\u001b[1;34m\u001b[0m\n\u001b[1;32m----> 1\u001b[1;33m \u001b[0moutliers_removed\u001b[0m\u001b[1;33m.\u001b[0m\u001b[0mvalue_counts\u001b[0m\u001b[1;33m(\u001b[0m\u001b[1;33m)\u001b[0m\u001b[1;33m\u001b[0m\u001b[1;33m\u001b[0m\u001b[0m\n\u001b[0m",
      "\u001b[1;31mAttributeError\u001b[0m: 'list' object has no attribute 'value_counts'"
     ]
    }
   ],
   "source": []
  },
  {
   "cell_type": "code",
   "execution_count": null,
   "metadata": {},
   "outputs": [],
   "source": []
  },
  {
   "cell_type": "code",
   "execution_count": 97,
   "metadata": {},
   "outputs": [
    {
     "data": {
      "text/html": [
       "<div>\n",
       "<style scoped>\n",
       "    .dataframe tbody tr th:only-of-type {\n",
       "        vertical-align: middle;\n",
       "    }\n",
       "\n",
       "    .dataframe tbody tr th {\n",
       "        vertical-align: top;\n",
       "    }\n",
       "\n",
       "    .dataframe thead th {\n",
       "        text-align: right;\n",
       "    }\n",
       "</style>\n",
       "<table border=\"1\" class=\"dataframe\">\n",
       "  <thead>\n",
       "    <tr style=\"text-align: right;\">\n",
       "      <th></th>\n",
       "      <th>Item_Visibility</th>\n",
       "      <th>Item_MRP</th>\n",
       "      <th>Outlet_Establishment_Year</th>\n",
       "    </tr>\n",
       "  </thead>\n",
       "  <tbody>\n",
       "    <tr>\n",
       "      <th>count</th>\n",
       "      <td>14204.000000</td>\n",
       "      <td>14204.000000</td>\n",
       "      <td>14204.000000</td>\n",
       "    </tr>\n",
       "    <tr>\n",
       "      <th>mean</th>\n",
       "      <td>0.065953</td>\n",
       "      <td>141.004977</td>\n",
       "      <td>1997.830681</td>\n",
       "    </tr>\n",
       "    <tr>\n",
       "      <th>std</th>\n",
       "      <td>0.051459</td>\n",
       "      <td>62.086938</td>\n",
       "      <td>8.371664</td>\n",
       "    </tr>\n",
       "    <tr>\n",
       "      <th>min</th>\n",
       "      <td>0.000000</td>\n",
       "      <td>31.290000</td>\n",
       "      <td>1985.000000</td>\n",
       "    </tr>\n",
       "    <tr>\n",
       "      <th>25%</th>\n",
       "      <td>0.027036</td>\n",
       "      <td>94.012000</td>\n",
       "      <td>1987.000000</td>\n",
       "    </tr>\n",
       "    <tr>\n",
       "      <th>50%</th>\n",
       "      <td>0.054021</td>\n",
       "      <td>142.247000</td>\n",
       "      <td>1999.000000</td>\n",
       "    </tr>\n",
       "    <tr>\n",
       "      <th>75%</th>\n",
       "      <td>0.094037</td>\n",
       "      <td>185.855600</td>\n",
       "      <td>2004.000000</td>\n",
       "    </tr>\n",
       "    <tr>\n",
       "      <th>max</th>\n",
       "      <td>0.328391</td>\n",
       "      <td>266.888400</td>\n",
       "      <td>2009.000000</td>\n",
       "    </tr>\n",
       "  </tbody>\n",
       "</table>\n",
       "</div>"
      ],
      "text/plain": [
       "       Item_Visibility      Item_MRP  Outlet_Establishment_Year\n",
       "count     14204.000000  14204.000000               14204.000000\n",
       "mean          0.065953    141.004977                1997.830681\n",
       "std           0.051459     62.086938                   8.371664\n",
       "min           0.000000     31.290000                1985.000000\n",
       "25%           0.027036     94.012000                1987.000000\n",
       "50%           0.054021    142.247000                1999.000000\n",
       "75%           0.094037    185.855600                2004.000000\n",
       "max           0.328391    266.888400                2009.000000"
      ]
     },
     "execution_count": 97,
     "metadata": {},
     "output_type": "execute_result"
    }
   ],
   "source": [
    "std_feats.describe()"
   ]
  },
  {
   "cell_type": "code",
   "execution_count": null,
   "metadata": {},
   "outputs": [],
   "source": [
    "train1 =  combi[:8523]\n",
    "test1 = combi[8523:]"
   ]
  },
  {
   "cell_type": "code",
   "execution_count": 130,
   "metadata": {},
   "outputs": [
    {
     "name": "stdout",
     "output_type": "stream",
     "text": [
      "  First_name Last_name  Marks Result\n",
      "0        Ram     Kumar     12   Fail\n",
      "1      Mohan    Sharma     52   Pass\n",
      "2       Tina       Ali     36   Pass\n",
      "3      Jeetu    Gandhi     85   Pass\n",
      "4      Meera    Kumari     23   Fail\n"
     ]
    }
   ],
   "source": [
    "# importing pandas\n",
    "import pandas as pd\n",
    "\n",
    "# Creating new dataframe\n",
    "initial_data = {'First_name': ['Ram', 'Mohan', 'Tina', 'Jeetu', 'Meera'], \n",
    "            'Last_name': ['Kumar', 'Sharma', 'Ali', 'Gandhi', 'Kumari'], \n",
    "            'Marks': [12, 52, 36, 85, 23] }\n",
    "\n",
    "df = pd.DataFrame(initial_data, columns = ['First_name', 'Last_name', \n",
    "'Marks'])\n",
    "\n",
    "# Generate result using pandas\n",
    "result = []\n",
    "for value in df[\"Marks\"]:\n",
    "    if value >= 33:\n",
    "        result.append(\"Pass\")\n",
    "    elif value < 0 and value > 100:\n",
    "        result.append(\"Invalid\")\n",
    "    else:\n",
    "        result.append(\"Fail\")\n",
    "   \n",
    "df[\"Result\"] = result   \n",
    "print(df)"
   ]
  },
  {
   "cell_type": "code",
   "execution_count": null,
   "metadata": {},
   "outputs": [],
   "source": []
  },
  {
   "cell_type": "code",
   "execution_count": null,
   "metadata": {},
   "outputs": [],
   "source": []
  },
  {
   "cell_type": "code",
   "execution_count": 13,
   "metadata": {},
   "outputs": [
    {
     "data": {
      "text/plain": [
       "Entityset: sales\n",
       "  Entities:\n",
       "    bigmart [Rows: 14204, Columns: 11]\n",
       "  Relationships:\n",
       "    No relationships"
      ]
     },
     "execution_count": 13,
     "metadata": {},
     "output_type": "execute_result"
    }
   ],
   "source": [
    "# creating and entity set 'es'\n",
    "es = ft.EntitySet(id = 'sales')\n",
    "\n",
    "# adding a dataframe \n",
    "es.entity_from_dataframe(entity_id = 'bigmart', dataframe = combi, index = 'id')"
   ]
  },
  {
   "cell_type": "code",
   "execution_count": 14,
   "metadata": {},
   "outputs": [
    {
     "data": {
      "text/plain": [
       "Entityset: sales\n",
       "  Entities:\n",
       "    bigmart [Rows: 14204, Columns: 7]\n",
       "    outlet [Rows: 10, Columns: 5]\n",
       "  Relationships:\n",
       "    bigmart.Outlet_Identifier -> outlet.Outlet_Identifier"
      ]
     },
     "execution_count": 14,
     "metadata": {},
     "output_type": "execute_result"
    }
   ],
   "source": [
    "es.normalize_entity(base_entity_id='bigmart', new_entity_id='outlet', index = 'Outlet_Identifier', \n",
    "additional_variables = ['Outlet_Establishment_Year', 'Outlet_Size', 'Outlet_Location_Type', 'Outlet_Type'])"
   ]
  },
  {
   "cell_type": "code",
   "execution_count": 15,
   "metadata": {},
   "outputs": [
    {
     "name": "stdout",
     "output_type": "stream",
     "text": [
      "Entityset: sales\n",
      "  Entities:\n",
      "    bigmart [Rows: 14204, Columns: 7]\n",
      "    outlet [Rows: 10, Columns: 5]\n",
      "  Relationships:\n",
      "    bigmart.Outlet_Identifier -> outlet.Outlet_Identifier\n"
     ]
    }
   ],
   "source": [
    "print(es)"
   ]
  },
  {
   "cell_type": "code",
   "execution_count": 16,
   "metadata": {},
   "outputs": [
    {
     "name": "stdout",
     "output_type": "stream",
     "text": [
      "Built 37 features\n",
      "EntitySet scattered to 3 workers in 8 seconds                                                                          \n",
      "Elapsed: 00:02 | Progress: 100%|███████████████████████████████████████████████████████████████████████████████████████\n"
     ]
    }
   ],
   "source": [
    "feature_matrix, feature_names = ft.dfs(entityset=es, \n",
    "target_entity = 'bigmart', \n",
    "max_depth = 2, \n",
    "verbose = 1, \n",
    "n_jobs = 3)"
   ]
  },
  {
   "cell_type": "code",
   "execution_count": 17,
   "metadata": {},
   "outputs": [
    {
     "data": {
      "text/plain": [
       "Index(['Item_Weight', 'Item_Fat_Content', 'Item_Visibility', 'Item_Type',\n",
       "       'Item_MRP', 'Outlet_Identifier', 'outlet.Outlet_Establishment_Year',\n",
       "       'outlet.Outlet_Size', 'outlet.Outlet_Location_Type',\n",
       "       'outlet.Outlet_Type', 'outlet.COUNT(bigmart)',\n",
       "       'outlet.MAX(bigmart.Item_Fat_Content)', 'outlet.MAX(bigmart.Item_MRP)',\n",
       "       'outlet.MAX(bigmart.Item_Visibility)',\n",
       "       'outlet.MAX(bigmart.Item_Weight)',\n",
       "       'outlet.MEAN(bigmart.Item_Fat_Content)',\n",
       "       'outlet.MEAN(bigmart.Item_MRP)', 'outlet.MEAN(bigmart.Item_Visibility)',\n",
       "       'outlet.MEAN(bigmart.Item_Weight)',\n",
       "       'outlet.MIN(bigmart.Item_Fat_Content)', 'outlet.MIN(bigmart.Item_MRP)',\n",
       "       'outlet.MIN(bigmart.Item_Visibility)',\n",
       "       'outlet.MIN(bigmart.Item_Weight)', 'outlet.MODE(bigmart.Item_Type)',\n",
       "       'outlet.NUM_UNIQUE(bigmart.Item_Type)',\n",
       "       'outlet.SKEW(bigmart.Item_Fat_Content)',\n",
       "       'outlet.SKEW(bigmart.Item_MRP)', 'outlet.SKEW(bigmart.Item_Visibility)',\n",
       "       'outlet.SKEW(bigmart.Item_Weight)',\n",
       "       'outlet.STD(bigmart.Item_Fat_Content)', 'outlet.STD(bigmart.Item_MRP)',\n",
       "       'outlet.STD(bigmart.Item_Visibility)',\n",
       "       'outlet.STD(bigmart.Item_Weight)',\n",
       "       'outlet.SUM(bigmart.Item_Fat_Content)', 'outlet.SUM(bigmart.Item_MRP)',\n",
       "       'outlet.SUM(bigmart.Item_Visibility)',\n",
       "       'outlet.SUM(bigmart.Item_Weight)'],\n",
       "      dtype='object')"
      ]
     },
     "execution_count": 17,
     "metadata": {},
     "output_type": "execute_result"
    }
   ],
   "source": [
    "feature_matrix.columns"
   ]
  },
  {
   "cell_type": "code",
   "execution_count": 18,
   "metadata": {},
   "outputs": [
    {
     "data": {
      "text/html": [
       "<div>\n",
       "<style scoped>\n",
       "    .dataframe tbody tr th:only-of-type {\n",
       "        vertical-align: middle;\n",
       "    }\n",
       "\n",
       "    .dataframe tbody tr th {\n",
       "        vertical-align: top;\n",
       "    }\n",
       "\n",
       "    .dataframe thead th {\n",
       "        text-align: right;\n",
       "    }\n",
       "</style>\n",
       "<table border=\"1\" class=\"dataframe\">\n",
       "  <thead>\n",
       "    <tr style=\"text-align: right;\">\n",
       "      <th></th>\n",
       "      <th>Item_Weight</th>\n",
       "      <th>Item_Fat_Content</th>\n",
       "      <th>Item_Visibility</th>\n",
       "      <th>Item_Type</th>\n",
       "      <th>Item_MRP</th>\n",
       "      <th>Outlet_Identifier</th>\n",
       "      <th>outlet.Outlet_Establishment_Year</th>\n",
       "      <th>outlet.Outlet_Size</th>\n",
       "      <th>outlet.Outlet_Location_Type</th>\n",
       "      <th>outlet.Outlet_Type</th>\n",
       "      <th>...</th>\n",
       "      <th>outlet.SKEW(bigmart.Item_Visibility)</th>\n",
       "      <th>outlet.SKEW(bigmart.Item_Weight)</th>\n",
       "      <th>outlet.STD(bigmart.Item_Fat_Content)</th>\n",
       "      <th>outlet.STD(bigmart.Item_MRP)</th>\n",
       "      <th>outlet.STD(bigmart.Item_Visibility)</th>\n",
       "      <th>outlet.STD(bigmart.Item_Weight)</th>\n",
       "      <th>outlet.SUM(bigmart.Item_Fat_Content)</th>\n",
       "      <th>outlet.SUM(bigmart.Item_MRP)</th>\n",
       "      <th>outlet.SUM(bigmart.Item_Visibility)</th>\n",
       "      <th>outlet.SUM(bigmart.Item_Weight)</th>\n",
       "    </tr>\n",
       "    <tr>\n",
       "      <th>id</th>\n",
       "      <th></th>\n",
       "      <th></th>\n",
       "      <th></th>\n",
       "      <th></th>\n",
       "      <th></th>\n",
       "      <th></th>\n",
       "      <th></th>\n",
       "      <th></th>\n",
       "      <th></th>\n",
       "      <th></th>\n",
       "      <th></th>\n",
       "      <th></th>\n",
       "      <th></th>\n",
       "      <th></th>\n",
       "      <th></th>\n",
       "      <th></th>\n",
       "      <th></th>\n",
       "      <th></th>\n",
       "      <th></th>\n",
       "      <th></th>\n",
       "      <th></th>\n",
       "    </tr>\n",
       "  </thead>\n",
       "  <tbody>\n",
       "    <tr>\n",
       "      <th>FDA15OUT049</th>\n",
       "      <td>9.30</td>\n",
       "      <td>0</td>\n",
       "      <td>0.016047</td>\n",
       "      <td>Dairy</td>\n",
       "      <td>249.8092</td>\n",
       "      <td>OUT049</td>\n",
       "      <td>1999</td>\n",
       "      <td>Medium</td>\n",
       "      <td>Tier 1</td>\n",
       "      <td>Supermarket Type1</td>\n",
       "      <td>...</td>\n",
       "      <td>0.790782</td>\n",
       "      <td>0.099024</td>\n",
       "      <td>0.478027</td>\n",
       "      <td>62.144594</td>\n",
       "      <td>0.043924</td>\n",
       "      <td>4.650796</td>\n",
       "      <td>547</td>\n",
       "      <td>218802.9588</td>\n",
       "      <td>91.450099</td>\n",
       "      <td>19844.655</td>\n",
       "    </tr>\n",
       "    <tr>\n",
       "      <th>DRC01OUT018</th>\n",
       "      <td>5.92</td>\n",
       "      <td>1</td>\n",
       "      <td>0.019278</td>\n",
       "      <td>Soft Drinks</td>\n",
       "      <td>48.2692</td>\n",
       "      <td>OUT018</td>\n",
       "      <td>2009</td>\n",
       "      <td>Medium</td>\n",
       "      <td>Tier 3</td>\n",
       "      <td>Supermarket Type2</td>\n",
       "      <td>...</td>\n",
       "      <td>0.783017</td>\n",
       "      <td>0.102602</td>\n",
       "      <td>0.478308</td>\n",
       "      <td>62.022851</td>\n",
       "      <td>0.044489</td>\n",
       "      <td>4.650874</td>\n",
       "      <td>547</td>\n",
       "      <td>217987.3906</td>\n",
       "      <td>92.723425</td>\n",
       "      <td>19794.425</td>\n",
       "    </tr>\n",
       "    <tr>\n",
       "      <th>FDN15OUT049</th>\n",
       "      <td>17.50</td>\n",
       "      <td>0</td>\n",
       "      <td>0.016760</td>\n",
       "      <td>Meat</td>\n",
       "      <td>141.6180</td>\n",
       "      <td>OUT049</td>\n",
       "      <td>1999</td>\n",
       "      <td>Medium</td>\n",
       "      <td>Tier 1</td>\n",
       "      <td>Supermarket Type1</td>\n",
       "      <td>...</td>\n",
       "      <td>0.790782</td>\n",
       "      <td>0.099024</td>\n",
       "      <td>0.478027</td>\n",
       "      <td>62.144594</td>\n",
       "      <td>0.043924</td>\n",
       "      <td>4.650796</td>\n",
       "      <td>547</td>\n",
       "      <td>218802.9588</td>\n",
       "      <td>91.450099</td>\n",
       "      <td>19844.655</td>\n",
       "    </tr>\n",
       "    <tr>\n",
       "      <th>FDX07OUT010</th>\n",
       "      <td>19.20</td>\n",
       "      <td>1</td>\n",
       "      <td>0.000000</td>\n",
       "      <td>Fruits and Vegetables</td>\n",
       "      <td>182.0950</td>\n",
       "      <td>OUT010</td>\n",
       "      <td>1998</td>\n",
       "      <td>missing</td>\n",
       "      <td>Tier 3</td>\n",
       "      <td>Grocery Store</td>\n",
       "      <td>...</td>\n",
       "      <td>0.776902</td>\n",
       "      <td>0.112759</td>\n",
       "      <td>0.479301</td>\n",
       "      <td>62.010835</td>\n",
       "      <td>0.073604</td>\n",
       "      <td>4.675070</td>\n",
       "      <td>330</td>\n",
       "      <td>130572.7618</td>\n",
       "      <td>94.293418</td>\n",
       "      <td>11768.655</td>\n",
       "    </tr>\n",
       "    <tr>\n",
       "      <th>NCD19OUT013</th>\n",
       "      <td>8.93</td>\n",
       "      <td>0</td>\n",
       "      <td>0.000000</td>\n",
       "      <td>Household</td>\n",
       "      <td>53.8614</td>\n",
       "      <td>OUT013</td>\n",
       "      <td>1987</td>\n",
       "      <td>High</td>\n",
       "      <td>Tier 3</td>\n",
       "      <td>Supermarket Type1</td>\n",
       "      <td>...</td>\n",
       "      <td>0.759033</td>\n",
       "      <td>0.104392</td>\n",
       "      <td>0.478213</td>\n",
       "      <td>62.140848</td>\n",
       "      <td>0.044005</td>\n",
       "      <td>4.650214</td>\n",
       "      <td>549</td>\n",
       "      <td>219172.4492</td>\n",
       "      <td>93.555174</td>\n",
       "      <td>19859.980</td>\n",
       "    </tr>\n",
       "  </tbody>\n",
       "</table>\n",
       "<p>5 rows × 37 columns</p>\n",
       "</div>"
      ],
      "text/plain": [
       "             Item_Weight  Item_Fat_Content  Item_Visibility  \\\n",
       "id                                                            \n",
       "FDA15OUT049         9.30                 0         0.016047   \n",
       "DRC01OUT018         5.92                 1         0.019278   \n",
       "FDN15OUT049        17.50                 0         0.016760   \n",
       "FDX07OUT010        19.20                 1         0.000000   \n",
       "NCD19OUT013         8.93                 0         0.000000   \n",
       "\n",
       "                         Item_Type  Item_MRP Outlet_Identifier  \\\n",
       "id                                                               \n",
       "FDA15OUT049                  Dairy  249.8092            OUT049   \n",
       "DRC01OUT018            Soft Drinks   48.2692            OUT018   \n",
       "FDN15OUT049                   Meat  141.6180            OUT049   \n",
       "FDX07OUT010  Fruits and Vegetables  182.0950            OUT010   \n",
       "NCD19OUT013              Household   53.8614            OUT013   \n",
       "\n",
       "             outlet.Outlet_Establishment_Year outlet.Outlet_Size  \\\n",
       "id                                                                 \n",
       "FDA15OUT049                              1999             Medium   \n",
       "DRC01OUT018                              2009             Medium   \n",
       "FDN15OUT049                              1999             Medium   \n",
       "FDX07OUT010                              1998            missing   \n",
       "NCD19OUT013                              1987               High   \n",
       "\n",
       "            outlet.Outlet_Location_Type outlet.Outlet_Type  ...  \\\n",
       "id                                                          ...   \n",
       "FDA15OUT049                      Tier 1  Supermarket Type1  ...   \n",
       "DRC01OUT018                      Tier 3  Supermarket Type2  ...   \n",
       "FDN15OUT049                      Tier 1  Supermarket Type1  ...   \n",
       "FDX07OUT010                      Tier 3      Grocery Store  ...   \n",
       "NCD19OUT013                      Tier 3  Supermarket Type1  ...   \n",
       "\n",
       "             outlet.SKEW(bigmart.Item_Visibility)  \\\n",
       "id                                                  \n",
       "FDA15OUT049                              0.790782   \n",
       "DRC01OUT018                              0.783017   \n",
       "FDN15OUT049                              0.790782   \n",
       "FDX07OUT010                              0.776902   \n",
       "NCD19OUT013                              0.759033   \n",
       "\n",
       "             outlet.SKEW(bigmart.Item_Weight)  \\\n",
       "id                                              \n",
       "FDA15OUT049                          0.099024   \n",
       "DRC01OUT018                          0.102602   \n",
       "FDN15OUT049                          0.099024   \n",
       "FDX07OUT010                          0.112759   \n",
       "NCD19OUT013                          0.104392   \n",
       "\n",
       "             outlet.STD(bigmart.Item_Fat_Content)  \\\n",
       "id                                                  \n",
       "FDA15OUT049                              0.478027   \n",
       "DRC01OUT018                              0.478308   \n",
       "FDN15OUT049                              0.478027   \n",
       "FDX07OUT010                              0.479301   \n",
       "NCD19OUT013                              0.478213   \n",
       "\n",
       "             outlet.STD(bigmart.Item_MRP)  \\\n",
       "id                                          \n",
       "FDA15OUT049                     62.144594   \n",
       "DRC01OUT018                     62.022851   \n",
       "FDN15OUT049                     62.144594   \n",
       "FDX07OUT010                     62.010835   \n",
       "NCD19OUT013                     62.140848   \n",
       "\n",
       "             outlet.STD(bigmart.Item_Visibility)  \\\n",
       "id                                                 \n",
       "FDA15OUT049                             0.043924   \n",
       "DRC01OUT018                             0.044489   \n",
       "FDN15OUT049                             0.043924   \n",
       "FDX07OUT010                             0.073604   \n",
       "NCD19OUT013                             0.044005   \n",
       "\n",
       "             outlet.STD(bigmart.Item_Weight)  \\\n",
       "id                                             \n",
       "FDA15OUT049                         4.650796   \n",
       "DRC01OUT018                         4.650874   \n",
       "FDN15OUT049                         4.650796   \n",
       "FDX07OUT010                         4.675070   \n",
       "NCD19OUT013                         4.650214   \n",
       "\n",
       "             outlet.SUM(bigmart.Item_Fat_Content)  \\\n",
       "id                                                  \n",
       "FDA15OUT049                                   547   \n",
       "DRC01OUT018                                   547   \n",
       "FDN15OUT049                                   547   \n",
       "FDX07OUT010                                   330   \n",
       "NCD19OUT013                                   549   \n",
       "\n",
       "             outlet.SUM(bigmart.Item_MRP)  \\\n",
       "id                                          \n",
       "FDA15OUT049                   218802.9588   \n",
       "DRC01OUT018                   217987.3906   \n",
       "FDN15OUT049                   218802.9588   \n",
       "FDX07OUT010                   130572.7618   \n",
       "NCD19OUT013                   219172.4492   \n",
       "\n",
       "             outlet.SUM(bigmart.Item_Visibility)  \\\n",
       "id                                                 \n",
       "FDA15OUT049                            91.450099   \n",
       "DRC01OUT018                            92.723425   \n",
       "FDN15OUT049                            91.450099   \n",
       "FDX07OUT010                            94.293418   \n",
       "NCD19OUT013                            93.555174   \n",
       "\n",
       "             outlet.SUM(bigmart.Item_Weight)  \n",
       "id                                            \n",
       "FDA15OUT049                        19844.655  \n",
       "DRC01OUT018                        19794.425  \n",
       "FDN15OUT049                        19844.655  \n",
       "FDX07OUT010                        11768.655  \n",
       "NCD19OUT013                        19859.980  \n",
       "\n",
       "[5 rows x 37 columns]"
      ]
     },
     "execution_count": 18,
     "metadata": {},
     "output_type": "execute_result"
    }
   ],
   "source": [
    "feature_matrix.head()"
   ]
  },
  {
   "cell_type": "code",
   "execution_count": 19,
   "metadata": {},
   "outputs": [],
   "source": [
    "feature_matrix = feature_matrix.reindex(index=combi['id'])\n",
    "feature_matrix = feature_matrix.reset_index()"
   ]
  },
  {
   "cell_type": "markdown",
   "metadata": {},
   "source": [
    "### MOdel Building"
   ]
  },
  {
   "cell_type": "code",
   "execution_count": 20,
   "metadata": {},
   "outputs": [],
   "source": [
    "from catboost import CatBoostRegressor"
   ]
  },
  {
   "cell_type": "code",
   "execution_count": 21,
   "metadata": {},
   "outputs": [],
   "source": [
    "categorical_features = np.where(feature_matrix.dtypes == 'object')[0]\n",
    "\n",
    "for i in categorical_features:\n",
    "    feature_matrix.iloc[:,i] = feature_matrix.iloc[:,i].astype('str')"
   ]
  },
  {
   "cell_type": "code",
   "execution_count": 22,
   "metadata": {},
   "outputs": [],
   "source": [
    "feature_matrix.drop(['id'], axis=1, inplace=True)\n",
    "train = feature_matrix[:8523]\n",
    "test = feature_matrix[8523:]"
   ]
  },
  {
   "cell_type": "code",
   "execution_count": 23,
   "metadata": {},
   "outputs": [],
   "source": [
    "# removing uneccesary variables\n",
    "train.drop(['Outlet_Identifier'], axis=1, inplace=True)\n",
    "test.drop(['Outlet_Identifier'], axis=1, inplace=True)"
   ]
  },
  {
   "cell_type": "code",
   "execution_count": 25,
   "metadata": {},
   "outputs": [
    {
     "data": {
      "text/plain": [
       "array([ 3,  6,  7,  8, 22], dtype=int64)"
      ]
     },
     "execution_count": 25,
     "metadata": {},
     "output_type": "execute_result"
    }
   ],
   "source": [
    "# identifying categorical features\n",
    "categorical_features = np.where(train.dtypes == 'object')[0]\n",
    "categorical_features"
   ]
  },
  {
   "cell_type": "code",
   "execution_count": 26,
   "metadata": {},
   "outputs": [],
   "source": [
    "from sklearn.model_selection import train_test_split\n",
    "\n",
    "# splitting train data into training and validation set\n",
    "xtrain, xvalid, ytrain, yvalid = train_test_split(train, sales, test_size=0.25, random_state=11)"
   ]
  },
  {
   "cell_type": "code",
   "execution_count": 29,
   "metadata": {},
   "outputs": [
    {
     "name": "stderr",
     "output_type": "stream",
     "text": [
      "You should provide test set for use best model. use_best_model parameter has been switched to false value.\n"
     ]
    },
    {
     "name": "stdout",
     "output_type": "stream",
     "text": [
      "0:\tlearn: 1452.8590984\ttotal: 20.7ms\tremaining: 4.12s\n",
      "1:\tlearn: 1299.1044258\ttotal: 44.7ms\tremaining: 4.42s\n",
      "2:\tlearn: 1206.4313081\ttotal: 66.1ms\tremaining: 4.34s\n",
      "3:\tlearn: 1147.9485392\ttotal: 92.4ms\tremaining: 4.53s\n",
      "4:\tlearn: 1116.2629645\ttotal: 115ms\tremaining: 4.5s\n",
      "5:\tlearn: 1094.1346113\ttotal: 137ms\tremaining: 4.44s\n",
      "6:\tlearn: 1082.6767621\ttotal: 164ms\tremaining: 4.51s\n",
      "7:\tlearn: 1077.1103816\ttotal: 190ms\tremaining: 4.55s\n",
      "8:\tlearn: 1073.1205735\ttotal: 212ms\tremaining: 4.5s\n",
      "9:\tlearn: 1069.6594792\ttotal: 240ms\tremaining: 4.57s\n",
      "10:\tlearn: 1066.7326891\ttotal: 262ms\tremaining: 4.51s\n",
      "11:\tlearn: 1066.0171874\ttotal: 285ms\tremaining: 4.47s\n",
      "12:\tlearn: 1063.2888862\ttotal: 310ms\tremaining: 4.46s\n",
      "13:\tlearn: 1063.2809422\ttotal: 316ms\tremaining: 4.2s\n",
      "14:\tlearn: 1061.1235559\ttotal: 334ms\tremaining: 4.12s\n",
      "15:\tlearn: 1058.1475726\ttotal: 353ms\tremaining: 4.06s\n",
      "16:\tlearn: 1057.3021612\ttotal: 366ms\tremaining: 3.94s\n",
      "17:\tlearn: 1056.2975498\ttotal: 384ms\tremaining: 3.88s\n",
      "18:\tlearn: 1054.9213591\ttotal: 405ms\tremaining: 3.86s\n",
      "19:\tlearn: 1052.3458661\ttotal: 423ms\tremaining: 3.81s\n",
      "20:\tlearn: 1051.8983934\ttotal: 446ms\tremaining: 3.8s\n",
      "21:\tlearn: 1051.2720953\ttotal: 465ms\tremaining: 3.76s\n",
      "22:\tlearn: 1050.8850027\ttotal: 481ms\tremaining: 3.7s\n",
      "23:\tlearn: 1050.2262033\ttotal: 499ms\tremaining: 3.66s\n",
      "24:\tlearn: 1046.0334610\ttotal: 518ms\tremaining: 3.62s\n",
      "25:\tlearn: 1044.3349632\ttotal: 536ms\tremaining: 3.58s\n",
      "26:\tlearn: 1043.4243359\ttotal: 550ms\tremaining: 3.53s\n",
      "27:\tlearn: 1043.0066056\ttotal: 563ms\tremaining: 3.46s\n",
      "28:\tlearn: 1042.3542087\ttotal: 582ms\tremaining: 3.43s\n",
      "29:\tlearn: 1040.8655957\ttotal: 597ms\tremaining: 3.38s\n",
      "30:\tlearn: 1039.8102369\ttotal: 617ms\tremaining: 3.36s\n",
      "31:\tlearn: 1038.7426565\ttotal: 637ms\tremaining: 3.34s\n",
      "32:\tlearn: 1037.4326215\ttotal: 657ms\tremaining: 3.32s\n",
      "33:\tlearn: 1036.7819612\ttotal: 685ms\tremaining: 3.34s\n",
      "34:\tlearn: 1033.2972262\ttotal: 705ms\tremaining: 3.32s\n",
      "35:\tlearn: 1032.1262017\ttotal: 725ms\tremaining: 3.3s\n",
      "36:\tlearn: 1031.9926374\ttotal: 737ms\tremaining: 3.25s\n",
      "37:\tlearn: 1030.3132276\ttotal: 755ms\tremaining: 3.22s\n",
      "38:\tlearn: 1028.8981861\ttotal: 771ms\tremaining: 3.18s\n",
      "39:\tlearn: 1026.1099678\ttotal: 794ms\tremaining: 3.18s\n",
      "40:\tlearn: 1025.8266599\ttotal: 818ms\tremaining: 3.17s\n",
      "41:\tlearn: 1024.8611158\ttotal: 834ms\tremaining: 3.14s\n",
      "42:\tlearn: 1024.8233064\ttotal: 844ms\tremaining: 3.08s\n",
      "43:\tlearn: 1023.8347270\ttotal: 864ms\tremaining: 3.06s\n",
      "44:\tlearn: 1023.0970752\ttotal: 878ms\tremaining: 3.02s\n",
      "45:\tlearn: 1022.0763815\ttotal: 898ms\tremaining: 3.01s\n",
      "46:\tlearn: 1021.3100979\ttotal: 917ms\tremaining: 2.99s\n",
      "47:\tlearn: 1018.5348179\ttotal: 936ms\tremaining: 2.96s\n",
      "48:\tlearn: 1018.2259236\ttotal: 951ms\tremaining: 2.93s\n",
      "49:\tlearn: 1018.1976145\ttotal: 961ms\tremaining: 2.88s\n",
      "50:\tlearn: 1016.8339950\ttotal: 974ms\tremaining: 2.84s\n",
      "51:\tlearn: 1014.9090360\ttotal: 998ms\tremaining: 2.84s\n",
      "52:\tlearn: 1013.6015912\ttotal: 1.02s\tremaining: 2.84s\n",
      "53:\tlearn: 1013.5148455\ttotal: 1.05s\tremaining: 2.83s\n",
      "54:\tlearn: 1011.0528781\ttotal: 1.07s\tremaining: 2.81s\n",
      "55:\tlearn: 1010.6885201\ttotal: 1.08s\tremaining: 2.78s\n",
      "56:\tlearn: 1010.5131497\ttotal: 1.1s\tremaining: 2.76s\n",
      "57:\tlearn: 1009.6226425\ttotal: 1.12s\tremaining: 2.75s\n",
      "58:\tlearn: 1009.5923030\ttotal: 1.14s\tremaining: 2.73s\n",
      "59:\tlearn: 1007.6667723\ttotal: 1.16s\tremaining: 2.71s\n",
      "60:\tlearn: 1006.3285011\ttotal: 1.19s\tremaining: 2.72s\n",
      "61:\tlearn: 1006.0155880\ttotal: 1.21s\tremaining: 2.69s\n",
      "62:\tlearn: 1005.4938089\ttotal: 1.23s\tremaining: 2.67s\n",
      "63:\tlearn: 1004.2103351\ttotal: 1.24s\tremaining: 2.64s\n",
      "64:\tlearn: 1004.1391839\ttotal: 1.25s\tremaining: 2.6s\n",
      "65:\tlearn: 1002.7677394\ttotal: 1.28s\tremaining: 2.59s\n",
      "66:\tlearn: 1001.6169332\ttotal: 1.3s\tremaining: 2.58s\n",
      "67:\tlearn: 999.2870811\ttotal: 1.32s\tremaining: 2.57s\n",
      "68:\tlearn: 998.4018232\ttotal: 1.34s\tremaining: 2.54s\n",
      "69:\tlearn: 996.8351514\ttotal: 1.36s\tremaining: 2.52s\n",
      "70:\tlearn: 996.3458210\ttotal: 1.37s\tremaining: 2.5s\n",
      "71:\tlearn: 994.6242350\ttotal: 1.39s\tremaining: 2.47s\n",
      "72:\tlearn: 993.9563942\ttotal: 1.41s\tremaining: 2.44s\n",
      "73:\tlearn: 992.4926976\ttotal: 1.43s\tremaining: 2.43s\n",
      "74:\tlearn: 990.5149300\ttotal: 1.45s\tremaining: 2.41s\n",
      "75:\tlearn: 990.2424429\ttotal: 1.46s\tremaining: 2.39s\n",
      "76:\tlearn: 988.5789910\ttotal: 1.49s\tremaining: 2.37s\n",
      "77:\tlearn: 987.6340005\ttotal: 1.51s\tremaining: 2.35s\n",
      "78:\tlearn: 986.4064190\ttotal: 1.53s\tremaining: 2.34s\n",
      "79:\tlearn: 984.7884355\ttotal: 1.55s\tremaining: 2.33s\n",
      "80:\tlearn: 981.4115618\ttotal: 1.57s\tremaining: 2.31s\n",
      "81:\tlearn: 981.1508666\ttotal: 1.59s\tremaining: 2.29s\n",
      "82:\tlearn: 980.5911088\ttotal: 1.61s\tremaining: 2.27s\n",
      "83:\tlearn: 978.5334128\ttotal: 1.63s\tremaining: 2.26s\n",
      "84:\tlearn: 977.0589635\ttotal: 1.66s\tremaining: 2.24s\n",
      "85:\tlearn: 976.1463266\ttotal: 1.68s\tremaining: 2.23s\n",
      "86:\tlearn: 974.9094383\ttotal: 1.71s\tremaining: 2.22s\n",
      "87:\tlearn: 974.3196786\ttotal: 1.74s\tremaining: 2.21s\n",
      "88:\tlearn: 973.3901472\ttotal: 1.76s\tremaining: 2.19s\n",
      "89:\tlearn: 972.7082849\ttotal: 1.77s\tremaining: 2.17s\n",
      "90:\tlearn: 972.6151666\ttotal: 1.79s\tremaining: 2.14s\n",
      "91:\tlearn: 971.4016348\ttotal: 1.81s\tremaining: 2.13s\n",
      "92:\tlearn: 970.5322270\ttotal: 1.83s\tremaining: 2.11s\n",
      "93:\tlearn: 968.6388140\ttotal: 1.85s\tremaining: 2.09s\n",
      "94:\tlearn: 967.6585959\ttotal: 1.87s\tremaining: 2.07s\n",
      "95:\tlearn: 966.4627396\ttotal: 1.89s\tremaining: 2.05s\n",
      "96:\tlearn: 964.9106380\ttotal: 1.92s\tremaining: 2.03s\n",
      "97:\tlearn: 964.5812348\ttotal: 1.94s\tremaining: 2.01s\n",
      "98:\tlearn: 963.9526035\ttotal: 1.95s\tremaining: 1.99s\n",
      "99:\tlearn: 962.9626129\ttotal: 1.97s\tremaining: 1.97s\n",
      "100:\tlearn: 962.0406917\ttotal: 1.99s\tremaining: 1.95s\n",
      "101:\tlearn: 960.6313489\ttotal: 2.02s\tremaining: 1.94s\n",
      "102:\tlearn: 959.3159178\ttotal: 2.04s\tremaining: 1.92s\n",
      "103:\tlearn: 958.8585670\ttotal: 2.05s\tremaining: 1.9s\n",
      "104:\tlearn: 957.8591352\ttotal: 2.07s\tremaining: 1.88s\n",
      "105:\tlearn: 956.0083371\ttotal: 2.1s\tremaining: 1.86s\n",
      "106:\tlearn: 955.6386396\ttotal: 2.12s\tremaining: 1.85s\n",
      "107:\tlearn: 955.4336167\ttotal: 2.15s\tremaining: 1.83s\n",
      "108:\tlearn: 953.7327484\ttotal: 2.17s\tremaining: 1.81s\n",
      "109:\tlearn: 953.4493606\ttotal: 2.19s\tremaining: 1.79s\n",
      "110:\tlearn: 952.2731099\ttotal: 2.22s\tremaining: 1.78s\n",
      "111:\tlearn: 950.8639571\ttotal: 2.24s\tremaining: 1.76s\n",
      "112:\tlearn: 949.6243784\ttotal: 2.27s\tremaining: 1.74s\n",
      "113:\tlearn: 949.3698888\ttotal: 2.29s\tremaining: 1.73s\n",
      "114:\tlearn: 948.7678184\ttotal: 2.32s\tremaining: 1.71s\n",
      "115:\tlearn: 947.5778611\ttotal: 2.34s\tremaining: 1.7s\n",
      "116:\tlearn: 946.9966109\ttotal: 2.36s\tremaining: 1.68s\n",
      "117:\tlearn: 946.4894093\ttotal: 2.38s\tremaining: 1.65s\n",
      "118:\tlearn: 944.6855347\ttotal: 2.4s\tremaining: 1.63s\n",
      "119:\tlearn: 943.5520387\ttotal: 2.42s\tremaining: 1.61s\n",
      "120:\tlearn: 942.2850467\ttotal: 2.44s\tremaining: 1.59s\n",
      "121:\tlearn: 941.7488705\ttotal: 2.46s\tremaining: 1.57s\n",
      "122:\tlearn: 941.5747220\ttotal: 2.48s\tremaining: 1.55s\n",
      "123:\tlearn: 940.9079729\ttotal: 2.49s\tremaining: 1.53s\n",
      "124:\tlearn: 940.3004014\ttotal: 2.52s\tremaining: 1.51s\n",
      "125:\tlearn: 940.0071887\ttotal: 2.53s\tremaining: 1.49s\n",
      "126:\tlearn: 939.2753426\ttotal: 2.55s\tremaining: 1.47s\n",
      "127:\tlearn: 937.9467262\ttotal: 2.57s\tremaining: 1.45s\n",
      "128:\tlearn: 937.3424011\ttotal: 2.59s\tremaining: 1.42s\n",
      "129:\tlearn: 935.3491755\ttotal: 2.61s\tremaining: 1.41s\n",
      "130:\tlearn: 934.7249727\ttotal: 2.63s\tremaining: 1.39s\n",
      "131:\tlearn: 933.4898163\ttotal: 2.65s\tremaining: 1.37s\n",
      "132:\tlearn: 931.5084091\ttotal: 2.68s\tremaining: 1.35s\n",
      "133:\tlearn: 930.9737974\ttotal: 2.71s\tremaining: 1.34s\n",
      "134:\tlearn: 930.6790611\ttotal: 2.72s\tremaining: 1.31s\n",
      "135:\tlearn: 929.6718984\ttotal: 2.74s\tremaining: 1.29s\n",
      "136:\tlearn: 929.3961231\ttotal: 2.75s\tremaining: 1.27s\n",
      "137:\tlearn: 928.6770666\ttotal: 2.78s\tremaining: 1.25s\n",
      "138:\tlearn: 926.9996448\ttotal: 2.8s\tremaining: 1.23s\n",
      "139:\tlearn: 925.0504899\ttotal: 2.83s\tremaining: 1.21s\n",
      "140:\tlearn: 923.7868665\ttotal: 2.86s\tremaining: 1.2s\n",
      "141:\tlearn: 923.5602079\ttotal: 2.89s\tremaining: 1.18s\n",
      "142:\tlearn: 922.5544975\ttotal: 2.9s\tremaining: 1.16s\n",
      "143:\tlearn: 922.1198888\ttotal: 2.93s\tremaining: 1.14s\n",
      "144:\tlearn: 921.4968451\ttotal: 2.95s\tremaining: 1.12s\n",
      "145:\tlearn: 920.6531927\ttotal: 2.96s\tremaining: 1.1s\n",
      "146:\tlearn: 920.5926639\ttotal: 2.98s\tremaining: 1.07s\n",
      "147:\tlearn: 920.5403775\ttotal: 2.99s\tremaining: 1.05s\n",
      "148:\tlearn: 920.3951968\ttotal: 3s\tremaining: 1.03s\n",
      "149:\tlearn: 919.1079638\ttotal: 3.02s\tremaining: 1.01s\n",
      "150:\tlearn: 917.7144976\ttotal: 3.04s\tremaining: 987ms\n",
      "151:\tlearn: 916.2338394\ttotal: 3.06s\tremaining: 968ms\n",
      "152:\tlearn: 915.4960606\ttotal: 3.09s\tremaining: 949ms\n",
      "153:\tlearn: 914.8629431\ttotal: 3.11s\tremaining: 929ms\n",
      "154:\tlearn: 912.8086185\ttotal: 3.13s\tremaining: 910ms\n",
      "155:\tlearn: 911.9912723\ttotal: 3.15s\tremaining: 888ms\n",
      "156:\tlearn: 911.4511786\ttotal: 3.17s\tremaining: 869ms\n",
      "157:\tlearn: 910.8283402\ttotal: 3.19s\tremaining: 849ms\n",
      "158:\tlearn: 908.5823226\ttotal: 3.21s\tremaining: 829ms\n",
      "159:\tlearn: 907.3418171\ttotal: 3.24s\tremaining: 809ms\n"
     ]
    },
    {
     "name": "stdout",
     "output_type": "stream",
     "text": [
      "160:\tlearn: 905.6572809\ttotal: 3.26s\tremaining: 790ms\n",
      "161:\tlearn: 904.6132141\ttotal: 3.28s\tremaining: 770ms\n",
      "162:\tlearn: 903.7102607\ttotal: 3.31s\tremaining: 751ms\n",
      "163:\tlearn: 902.5413397\ttotal: 3.32s\tremaining: 730ms\n",
      "164:\tlearn: 901.7232842\ttotal: 3.35s\tremaining: 710ms\n",
      "165:\tlearn: 900.0529571\ttotal: 3.37s\tremaining: 690ms\n",
      "166:\tlearn: 899.1112622\ttotal: 3.4s\tremaining: 673ms\n",
      "167:\tlearn: 898.4533338\ttotal: 3.43s\tremaining: 654ms\n",
      "168:\tlearn: 896.0880976\ttotal: 3.46s\tremaining: 636ms\n",
      "169:\tlearn: 895.0880412\ttotal: 3.49s\tremaining: 616ms\n",
      "170:\tlearn: 894.0790482\ttotal: 3.51s\tremaining: 595ms\n",
      "171:\tlearn: 891.9886768\ttotal: 3.54s\tremaining: 576ms\n",
      "172:\tlearn: 891.2147958\ttotal: 3.55s\tremaining: 555ms\n",
      "173:\tlearn: 890.3315929\ttotal: 3.58s\tremaining: 535ms\n",
      "174:\tlearn: 888.6550888\ttotal: 3.6s\tremaining: 515ms\n",
      "175:\tlearn: 888.2754247\ttotal: 3.63s\tremaining: 495ms\n",
      "176:\tlearn: 887.5914245\ttotal: 3.65s\tremaining: 474ms\n",
      "177:\tlearn: 887.3273748\ttotal: 3.68s\tremaining: 454ms\n",
      "178:\tlearn: 886.8439708\ttotal: 3.7s\tremaining: 434ms\n",
      "179:\tlearn: 885.8143413\ttotal: 3.73s\tremaining: 414ms\n",
      "180:\tlearn: 885.4219722\ttotal: 3.75s\tremaining: 394ms\n",
      "181:\tlearn: 883.7241185\ttotal: 3.77s\tremaining: 373ms\n",
      "182:\tlearn: 883.3245861\ttotal: 3.79s\tremaining: 352ms\n",
      "183:\tlearn: 882.4028866\ttotal: 3.81s\tremaining: 332ms\n",
      "184:\tlearn: 881.6977581\ttotal: 3.83s\tremaining: 311ms\n",
      "185:\tlearn: 881.5153076\ttotal: 3.86s\tremaining: 290ms\n",
      "186:\tlearn: 881.3757564\ttotal: 3.88s\tremaining: 270ms\n",
      "187:\tlearn: 880.4879695\ttotal: 3.9s\tremaining: 249ms\n",
      "188:\tlearn: 878.7072382\ttotal: 3.92s\tremaining: 228ms\n",
      "189:\tlearn: 878.1128552\ttotal: 3.94s\tremaining: 208ms\n",
      "190:\tlearn: 877.8226021\ttotal: 3.97s\tremaining: 187ms\n",
      "191:\tlearn: 876.4774656\ttotal: 3.99s\tremaining: 166ms\n",
      "192:\tlearn: 875.4355608\ttotal: 4.01s\tremaining: 146ms\n",
      "193:\tlearn: 874.0477104\ttotal: 4.04s\tremaining: 125ms\n",
      "194:\tlearn: 873.7924281\ttotal: 4.06s\tremaining: 104ms\n",
      "195:\tlearn: 873.6439784\ttotal: 4.09s\tremaining: 83.4ms\n",
      "196:\tlearn: 872.9792741\ttotal: 4.11s\tremaining: 62.6ms\n",
      "197:\tlearn: 872.2494441\ttotal: 4.13s\tremaining: 41.8ms\n",
      "198:\tlearn: 871.4874504\ttotal: 4.16s\tremaining: 20.9ms\n",
      "199:\tlearn: 871.2806472\ttotal: 4.18s\tremaining: 0us\n"
     ]
    },
    {
     "data": {
      "text/plain": [
       "<catboost.core.CatBoostRegressor at 0x244349377c8>"
      ]
     },
     "execution_count": 29,
     "metadata": {},
     "output_type": "execute_result"
    }
   ],
   "source": [
    "model_cat = CatBoostRegressor(iterations=200, learning_rate=0.3, depth=6, eval_metric='RMSE', random_seed=7)\n",
    "\n",
    "# training model\n",
    "model_cat.fit(xtrain, ytrain, cat_features=categorical_features, use_best_model=True)"
   ]
  },
  {
   "cell_type": "code",
   "execution_count": 30,
   "metadata": {},
   "outputs": [
    {
     "data": {
      "text/plain": [
       "0.5728788704354562"
      ]
     },
     "execution_count": 30,
     "metadata": {},
     "output_type": "execute_result"
    }
   ],
   "source": [
    "# validation score\n",
    "model_cat.score(xvalid, yvalid)"
   ]
  },
  {
   "cell_type": "code",
   "execution_count": 45,
   "metadata": {},
   "outputs": [],
   "source": [
    "pred = model_cat.predict(test)"
   ]
  },
  {
   "cell_type": "code",
   "execution_count": 32,
   "metadata": {},
   "outputs": [
    {
     "data": {
      "text/html": [
       "<div>\n",
       "<style scoped>\n",
       "    .dataframe tbody tr th:only-of-type {\n",
       "        vertical-align: middle;\n",
       "    }\n",
       "\n",
       "    .dataframe tbody tr th {\n",
       "        vertical-align: top;\n",
       "    }\n",
       "\n",
       "    .dataframe thead th {\n",
       "        text-align: right;\n",
       "    }\n",
       "</style>\n",
       "<table border=\"1\" class=\"dataframe\">\n",
       "  <thead>\n",
       "    <tr style=\"text-align: right;\">\n",
       "      <th></th>\n",
       "      <th>Item_Identifier</th>\n",
       "      <th>Outlet_Identifier</th>\n",
       "      <th>Item_Outlet_Sales</th>\n",
       "    </tr>\n",
       "  </thead>\n",
       "  <tbody>\n",
       "    <tr>\n",
       "      <th>0</th>\n",
       "      <td>FDW58</td>\n",
       "      <td>OUT049</td>\n",
       "      <td>1000</td>\n",
       "    </tr>\n",
       "    <tr>\n",
       "      <th>1</th>\n",
       "      <td>FDW14</td>\n",
       "      <td>OUT017</td>\n",
       "      <td>1000</td>\n",
       "    </tr>\n",
       "    <tr>\n",
       "      <th>2</th>\n",
       "      <td>NCN55</td>\n",
       "      <td>OUT010</td>\n",
       "      <td>1000</td>\n",
       "    </tr>\n",
       "    <tr>\n",
       "      <th>3</th>\n",
       "      <td>FDQ58</td>\n",
       "      <td>OUT017</td>\n",
       "      <td>1000</td>\n",
       "    </tr>\n",
       "    <tr>\n",
       "      <th>4</th>\n",
       "      <td>FDY38</td>\n",
       "      <td>OUT027</td>\n",
       "      <td>1000</td>\n",
       "    </tr>\n",
       "  </tbody>\n",
       "</table>\n",
       "</div>"
      ],
      "text/plain": [
       "  Item_Identifier Outlet_Identifier  Item_Outlet_Sales\n",
       "0           FDW58            OUT049               1000\n",
       "1           FDW14            OUT017               1000\n",
       "2           NCN55            OUT010               1000\n",
       "3           FDQ58            OUT017               1000\n",
       "4           FDY38            OUT027               1000"
      ]
     },
     "execution_count": 32,
     "metadata": {},
     "output_type": "execute_result"
    }
   ],
   "source": [
    "sub =pd.read_csv('sample_submission_8RXa3c6.csv')\n",
    "sub.head()"
   ]
  },
  {
   "cell_type": "code",
   "execution_count": 36,
   "metadata": {},
   "outputs": [
    {
     "name": "stdout",
     "output_type": "stream",
     "text": [
      "<class 'pandas.core.frame.DataFrame'>\n",
      "RangeIndex: 5681 entries, 8523 to 14203\n",
      "Data columns (total 36 columns):\n",
      " #   Column                                 Non-Null Count  Dtype  \n",
      "---  ------                                 --------------  -----  \n",
      " 0   Item_Weight                            5681 non-null   float64\n",
      " 1   Item_Fat_Content                       5681 non-null   int64  \n",
      " 2   Item_Visibility                        5681 non-null   float64\n",
      " 3   Item_Type                              5681 non-null   object \n",
      " 4   Item_MRP                               5681 non-null   float64\n",
      " 5   outlet.Outlet_Establishment_Year       5681 non-null   int64  \n",
      " 6   outlet.Outlet_Size                     5681 non-null   object \n",
      " 7   outlet.Outlet_Location_Type            5681 non-null   object \n",
      " 8   outlet.Outlet_Type                     5681 non-null   object \n",
      " 9   outlet.COUNT(bigmart)                  5681 non-null   int64  \n",
      " 10  outlet.MAX(bigmart.Item_Fat_Content)   5681 non-null   int64  \n",
      " 11  outlet.MAX(bigmart.Item_MRP)           5681 non-null   float64\n",
      " 12  outlet.MAX(bigmart.Item_Visibility)    5681 non-null   float64\n",
      " 13  outlet.MAX(bigmart.Item_Weight)        5681 non-null   float64\n",
      " 14  outlet.MEAN(bigmart.Item_Fat_Content)  5681 non-null   float64\n",
      " 15  outlet.MEAN(bigmart.Item_MRP)          5681 non-null   float64\n",
      " 16  outlet.MEAN(bigmart.Item_Visibility)   5681 non-null   float64\n",
      " 17  outlet.MEAN(bigmart.Item_Weight)       5681 non-null   float64\n",
      " 18  outlet.MIN(bigmart.Item_Fat_Content)   5681 non-null   int64  \n",
      " 19  outlet.MIN(bigmart.Item_MRP)           5681 non-null   float64\n",
      " 20  outlet.MIN(bigmart.Item_Visibility)    5681 non-null   float64\n",
      " 21  outlet.MIN(bigmart.Item_Weight)        5681 non-null   float64\n",
      " 22  outlet.MODE(bigmart.Item_Type)         5681 non-null   object \n",
      " 23  outlet.NUM_UNIQUE(bigmart.Item_Type)   5681 non-null   int64  \n",
      " 24  outlet.SKEW(bigmart.Item_Fat_Content)  5681 non-null   float64\n",
      " 25  outlet.SKEW(bigmart.Item_MRP)          5681 non-null   float64\n",
      " 26  outlet.SKEW(bigmart.Item_Visibility)   5681 non-null   float64\n",
      " 27  outlet.SKEW(bigmart.Item_Weight)       5681 non-null   float64\n",
      " 28  outlet.STD(bigmart.Item_Fat_Content)   5681 non-null   float64\n",
      " 29  outlet.STD(bigmart.Item_MRP)           5681 non-null   float64\n",
      " 30  outlet.STD(bigmart.Item_Visibility)    5681 non-null   float64\n",
      " 31  outlet.STD(bigmart.Item_Weight)        5681 non-null   float64\n",
      " 32  outlet.SUM(bigmart.Item_Fat_Content)   5681 non-null   int64  \n",
      " 33  outlet.SUM(bigmart.Item_MRP)           5681 non-null   float64\n",
      " 34  outlet.SUM(bigmart.Item_Visibility)    5681 non-null   float64\n",
      " 35  outlet.SUM(bigmart.Item_Weight)        5681 non-null   float64\n",
      "dtypes: float64(24), int64(7), object(5)\n",
      "memory usage: 1.6+ MB\n"
     ]
    }
   ],
   "source": [
    "test.info()"
   ]
  },
  {
   "cell_type": "code",
   "execution_count": 43,
   "metadata": {},
   "outputs": [
    {
     "data": {
      "text/html": [
       "<div>\n",
       "<style scoped>\n",
       "    .dataframe tbody tr th:only-of-type {\n",
       "        vertical-align: middle;\n",
       "    }\n",
       "\n",
       "    .dataframe tbody tr th {\n",
       "        vertical-align: top;\n",
       "    }\n",
       "\n",
       "    .dataframe thead th {\n",
       "        text-align: right;\n",
       "    }\n",
       "</style>\n",
       "<table border=\"1\" class=\"dataframe\">\n",
       "  <thead>\n",
       "    <tr style=\"text-align: right;\">\n",
       "      <th></th>\n",
       "      <th>Item_Weight</th>\n",
       "      <th>Item_Fat_Content</th>\n",
       "      <th>Item_Visibility</th>\n",
       "      <th>Item_Type</th>\n",
       "      <th>Item_MRP</th>\n",
       "      <th>Outlet_Identifier</th>\n",
       "      <th>outlet.Outlet_Establishment_Year</th>\n",
       "      <th>outlet.Outlet_Size</th>\n",
       "      <th>outlet.Outlet_Location_Type</th>\n",
       "      <th>outlet.Outlet_Type</th>\n",
       "      <th>...</th>\n",
       "      <th>outlet.SKEW(bigmart.Item_Visibility)</th>\n",
       "      <th>outlet.SKEW(bigmart.Item_Weight)</th>\n",
       "      <th>outlet.STD(bigmart.Item_Fat_Content)</th>\n",
       "      <th>outlet.STD(bigmart.Item_MRP)</th>\n",
       "      <th>outlet.STD(bigmart.Item_Visibility)</th>\n",
       "      <th>outlet.STD(bigmart.Item_Weight)</th>\n",
       "      <th>outlet.SUM(bigmart.Item_Fat_Content)</th>\n",
       "      <th>outlet.SUM(bigmart.Item_MRP)</th>\n",
       "      <th>outlet.SUM(bigmart.Item_Visibility)</th>\n",
       "      <th>outlet.SUM(bigmart.Item_Weight)</th>\n",
       "    </tr>\n",
       "  </thead>\n",
       "  <tbody>\n",
       "    <tr>\n",
       "      <th>8523</th>\n",
       "      <td>20.750000</td>\n",
       "      <td>0</td>\n",
       "      <td>0.007565</td>\n",
       "      <td>Snack Foods</td>\n",
       "      <td>107.8622</td>\n",
       "      <td>OUT049</td>\n",
       "      <td>1999</td>\n",
       "      <td>Medium</td>\n",
       "      <td>Tier 1</td>\n",
       "      <td>Supermarket Type1</td>\n",
       "      <td>...</td>\n",
       "      <td>0.790782</td>\n",
       "      <td>0.099024</td>\n",
       "      <td>0.478027</td>\n",
       "      <td>62.144594</td>\n",
       "      <td>0.043924</td>\n",
       "      <td>4.650796</td>\n",
       "      <td>547</td>\n",
       "      <td>218802.9588</td>\n",
       "      <td>91.450099</td>\n",
       "      <td>19844.655000</td>\n",
       "    </tr>\n",
       "    <tr>\n",
       "      <th>8524</th>\n",
       "      <td>8.300000</td>\n",
       "      <td>1</td>\n",
       "      <td>0.038428</td>\n",
       "      <td>Dairy</td>\n",
       "      <td>87.3198</td>\n",
       "      <td>OUT017</td>\n",
       "      <td>2007</td>\n",
       "      <td>missing</td>\n",
       "      <td>Tier 2</td>\n",
       "      <td>Supermarket Type1</td>\n",
       "      <td>...</td>\n",
       "      <td>0.774783</td>\n",
       "      <td>0.106563</td>\n",
       "      <td>0.477922</td>\n",
       "      <td>62.295513</td>\n",
       "      <td>0.044152</td>\n",
       "      <td>4.655234</td>\n",
       "      <td>544</td>\n",
       "      <td>217561.3500</td>\n",
       "      <td>94.342210</td>\n",
       "      <td>19722.750000</td>\n",
       "    </tr>\n",
       "    <tr>\n",
       "      <th>8525</th>\n",
       "      <td>14.600000</td>\n",
       "      <td>0</td>\n",
       "      <td>0.099575</td>\n",
       "      <td>Others</td>\n",
       "      <td>241.7538</td>\n",
       "      <td>OUT010</td>\n",
       "      <td>1998</td>\n",
       "      <td>missing</td>\n",
       "      <td>Tier 3</td>\n",
       "      <td>Grocery Store</td>\n",
       "      <td>...</td>\n",
       "      <td>0.776902</td>\n",
       "      <td>0.112759</td>\n",
       "      <td>0.479301</td>\n",
       "      <td>62.010835</td>\n",
       "      <td>0.073604</td>\n",
       "      <td>4.675070</td>\n",
       "      <td>330</td>\n",
       "      <td>130572.7618</td>\n",
       "      <td>94.293418</td>\n",
       "      <td>11768.655000</td>\n",
       "    </tr>\n",
       "    <tr>\n",
       "      <th>8526</th>\n",
       "      <td>7.315000</td>\n",
       "      <td>0</td>\n",
       "      <td>0.015388</td>\n",
       "      <td>Snack Foods</td>\n",
       "      <td>155.0340</td>\n",
       "      <td>OUT017</td>\n",
       "      <td>2007</td>\n",
       "      <td>missing</td>\n",
       "      <td>Tier 2</td>\n",
       "      <td>Supermarket Type1</td>\n",
       "      <td>...</td>\n",
       "      <td>0.774783</td>\n",
       "      <td>0.106563</td>\n",
       "      <td>0.477922</td>\n",
       "      <td>62.295513</td>\n",
       "      <td>0.044152</td>\n",
       "      <td>4.655234</td>\n",
       "      <td>544</td>\n",
       "      <td>217561.3500</td>\n",
       "      <td>94.342210</td>\n",
       "      <td>19722.750000</td>\n",
       "    </tr>\n",
       "    <tr>\n",
       "      <th>8527</th>\n",
       "      <td>12.792854</td>\n",
       "      <td>1</td>\n",
       "      <td>0.118599</td>\n",
       "      <td>Dairy</td>\n",
       "      <td>234.2300</td>\n",
       "      <td>OUT027</td>\n",
       "      <td>1985</td>\n",
       "      <td>Medium</td>\n",
       "      <td>Tier 3</td>\n",
       "      <td>Supermarket Type3</td>\n",
       "      <td>...</td>\n",
       "      <td>0.774028</td>\n",
       "      <td>0.000000</td>\n",
       "      <td>0.478189</td>\n",
       "      <td>62.059660</td>\n",
       "      <td>0.044228</td>\n",
       "      <td>0.000000</td>\n",
       "      <td>551</td>\n",
       "      <td>219838.2488</td>\n",
       "      <td>94.075671</td>\n",
       "      <td>19944.059742</td>\n",
       "    </tr>\n",
       "  </tbody>\n",
       "</table>\n",
       "<p>5 rows × 37 columns</p>\n",
       "</div>"
      ],
      "text/plain": [
       "      Item_Weight  Item_Fat_Content  Item_Visibility    Item_Type  Item_MRP  \\\n",
       "8523    20.750000                 0         0.007565  Snack Foods  107.8622   \n",
       "8524     8.300000                 1         0.038428        Dairy   87.3198   \n",
       "8525    14.600000                 0         0.099575       Others  241.7538   \n",
       "8526     7.315000                 0         0.015388  Snack Foods  155.0340   \n",
       "8527    12.792854                 1         0.118599        Dairy  234.2300   \n",
       "\n",
       "     Outlet_Identifier  outlet.Outlet_Establishment_Year outlet.Outlet_Size  \\\n",
       "8523            OUT049                              1999             Medium   \n",
       "8524            OUT017                              2007            missing   \n",
       "8525            OUT010                              1998            missing   \n",
       "8526            OUT017                              2007            missing   \n",
       "8527            OUT027                              1985             Medium   \n",
       "\n",
       "     outlet.Outlet_Location_Type outlet.Outlet_Type  ...  \\\n",
       "8523                      Tier 1  Supermarket Type1  ...   \n",
       "8524                      Tier 2  Supermarket Type1  ...   \n",
       "8525                      Tier 3      Grocery Store  ...   \n",
       "8526                      Tier 2  Supermarket Type1  ...   \n",
       "8527                      Tier 3  Supermarket Type3  ...   \n",
       "\n",
       "      outlet.SKEW(bigmart.Item_Visibility)  outlet.SKEW(bigmart.Item_Weight)  \\\n",
       "8523                              0.790782                          0.099024   \n",
       "8524                              0.774783                          0.106563   \n",
       "8525                              0.776902                          0.112759   \n",
       "8526                              0.774783                          0.106563   \n",
       "8527                              0.774028                          0.000000   \n",
       "\n",
       "      outlet.STD(bigmart.Item_Fat_Content)  outlet.STD(bigmart.Item_MRP)  \\\n",
       "8523                              0.478027                     62.144594   \n",
       "8524                              0.477922                     62.295513   \n",
       "8525                              0.479301                     62.010835   \n",
       "8526                              0.477922                     62.295513   \n",
       "8527                              0.478189                     62.059660   \n",
       "\n",
       "      outlet.STD(bigmart.Item_Visibility)  outlet.STD(bigmart.Item_Weight)  \\\n",
       "8523                             0.043924                         4.650796   \n",
       "8524                             0.044152                         4.655234   \n",
       "8525                             0.073604                         4.675070   \n",
       "8526                             0.044152                         4.655234   \n",
       "8527                             0.044228                         0.000000   \n",
       "\n",
       "      outlet.SUM(bigmart.Item_Fat_Content)  outlet.SUM(bigmart.Item_MRP)  \\\n",
       "8523                                   547                   218802.9588   \n",
       "8524                                   544                   217561.3500   \n",
       "8525                                   330                   130572.7618   \n",
       "8526                                   544                   217561.3500   \n",
       "8527                                   551                   219838.2488   \n",
       "\n",
       "      outlet.SUM(bigmart.Item_Visibility)  outlet.SUM(bigmart.Item_Weight)  \n",
       "8523                            91.450099                     19844.655000  \n",
       "8524                            94.342210                     19722.750000  \n",
       "8525                            94.293418                     11768.655000  \n",
       "8526                            94.342210                     19722.750000  \n",
       "8527                            94.075671                     19944.059742  \n",
       "\n",
       "[5 rows x 37 columns]"
      ]
     },
     "execution_count": 43,
     "metadata": {},
     "output_type": "execute_result"
    }
   ],
   "source": [
    "feature_matrix[8523:].head()"
   ]
  },
  {
   "cell_type": "code",
   "execution_count": 38,
   "metadata": {},
   "outputs": [
    {
     "data": {
      "text/html": [
       "<div>\n",
       "<style scoped>\n",
       "    .dataframe tbody tr th:only-of-type {\n",
       "        vertical-align: middle;\n",
       "    }\n",
       "\n",
       "    .dataframe tbody tr th {\n",
       "        vertical-align: top;\n",
       "    }\n",
       "\n",
       "    .dataframe thead th {\n",
       "        text-align: right;\n",
       "    }\n",
       "</style>\n",
       "<table border=\"1\" class=\"dataframe\">\n",
       "  <thead>\n",
       "    <tr style=\"text-align: right;\">\n",
       "      <th></th>\n",
       "      <th>Item_Identifier</th>\n",
       "      <th>Outlet_Identifier</th>\n",
       "      <th>Item_Outlet_Sales</th>\n",
       "    </tr>\n",
       "  </thead>\n",
       "  <tbody>\n",
       "    <tr>\n",
       "      <th>0</th>\n",
       "      <td>FDW58</td>\n",
       "      <td>OUT049</td>\n",
       "      <td>1000</td>\n",
       "    </tr>\n",
       "    <tr>\n",
       "      <th>1</th>\n",
       "      <td>FDW14</td>\n",
       "      <td>OUT017</td>\n",
       "      <td>1000</td>\n",
       "    </tr>\n",
       "    <tr>\n",
       "      <th>2</th>\n",
       "      <td>NCN55</td>\n",
       "      <td>OUT010</td>\n",
       "      <td>1000</td>\n",
       "    </tr>\n",
       "    <tr>\n",
       "      <th>3</th>\n",
       "      <td>FDQ58</td>\n",
       "      <td>OUT017</td>\n",
       "      <td>1000</td>\n",
       "    </tr>\n",
       "    <tr>\n",
       "      <th>4</th>\n",
       "      <td>FDY38</td>\n",
       "      <td>OUT027</td>\n",
       "      <td>1000</td>\n",
       "    </tr>\n",
       "  </tbody>\n",
       "</table>\n",
       "</div>"
      ],
      "text/plain": [
       "  Item_Identifier Outlet_Identifier  Item_Outlet_Sales\n",
       "0           FDW58            OUT049               1000\n",
       "1           FDW14            OUT017               1000\n",
       "2           NCN55            OUT010               1000\n",
       "3           FDQ58            OUT017               1000\n",
       "4           FDY38            OUT027               1000"
      ]
     },
     "execution_count": 38,
     "metadata": {},
     "output_type": "execute_result"
    }
   ],
   "source": [
    "sub.head()"
   ]
  },
  {
   "cell_type": "code",
   "execution_count": 46,
   "metadata": {},
   "outputs": [],
   "source": [
    "sub['Item_Outlet_Sales'] = pred"
   ]
  },
  {
   "cell_type": "code",
   "execution_count": 53,
   "metadata": {},
   "outputs": [],
   "source": [
    "sub.to_csv('sub_fe_catboost.csv', index=False)"
   ]
  },
  {
   "cell_type": "code",
   "execution_count": 49,
   "metadata": {},
   "outputs": [
    {
     "data": {
      "text/html": [
       "<div>\n",
       "<style scoped>\n",
       "    .dataframe tbody tr th:only-of-type {\n",
       "        vertical-align: middle;\n",
       "    }\n",
       "\n",
       "    .dataframe tbody tr th {\n",
       "        vertical-align: top;\n",
       "    }\n",
       "\n",
       "    .dataframe thead th {\n",
       "        text-align: right;\n",
       "    }\n",
       "</style>\n",
       "<table border=\"1\" class=\"dataframe\">\n",
       "  <thead>\n",
       "    <tr style=\"text-align: right;\">\n",
       "      <th></th>\n",
       "      <th>Item_Outlet_Sales</th>\n",
       "    </tr>\n",
       "  </thead>\n",
       "  <tbody>\n",
       "    <tr>\n",
       "      <th>count</th>\n",
       "      <td>5681.000000</td>\n",
       "    </tr>\n",
       "    <tr>\n",
       "      <th>mean</th>\n",
       "      <td>2217.791049</td>\n",
       "    </tr>\n",
       "    <tr>\n",
       "      <th>std</th>\n",
       "      <td>1400.735760</td>\n",
       "    </tr>\n",
       "    <tr>\n",
       "      <th>min</th>\n",
       "      <td>-382.764119</td>\n",
       "    </tr>\n",
       "    <tr>\n",
       "      <th>25%</th>\n",
       "      <td>1103.687728</td>\n",
       "    </tr>\n",
       "    <tr>\n",
       "      <th>50%</th>\n",
       "      <td>2104.299333</td>\n",
       "    </tr>\n",
       "    <tr>\n",
       "      <th>75%</th>\n",
       "      <td>3084.257148</td>\n",
       "    </tr>\n",
       "    <tr>\n",
       "      <th>max</th>\n",
       "      <td>7869.805779</td>\n",
       "    </tr>\n",
       "  </tbody>\n",
       "</table>\n",
       "</div>"
      ],
      "text/plain": [
       "       Item_Outlet_Sales\n",
       "count        5681.000000\n",
       "mean         2217.791049\n",
       "std          1400.735760\n",
       "min          -382.764119\n",
       "25%          1103.687728\n",
       "50%          2104.299333\n",
       "75%          3084.257148\n",
       "max          7869.805779"
      ]
     },
     "execution_count": 49,
     "metadata": {},
     "output_type": "execute_result"
    }
   ],
   "source": [
    "sub.describe()"
   ]
  },
  {
   "cell_type": "code",
   "execution_count": 50,
   "metadata": {},
   "outputs": [
    {
     "data": {
      "text/plain": [
       "count     8523.000000\n",
       "mean      2181.288914\n",
       "std       1706.499616\n",
       "min         33.290000\n",
       "25%        834.247400\n",
       "50%       1794.331000\n",
       "75%       3101.296400\n",
       "max      13086.964800\n",
       "Name: Item_Outlet_Sales, dtype: float64"
      ]
     },
     "execution_count": 50,
     "metadata": {},
     "output_type": "execute_result"
    }
   ],
   "source": [
    "sales.describe()"
   ]
  },
  {
   "cell_type": "code",
   "execution_count": 52,
   "metadata": {},
   "outputs": [],
   "source": [
    "sub['Item_Outlet_Sales'] = np.where(sub['Item_Outlet_Sales']<0,0,sub['Item_Outlet_Sales'])"
   ]
  },
  {
   "cell_type": "code",
   "execution_count": null,
   "metadata": {},
   "outputs": [],
   "source": []
  }
 ],
 "metadata": {
  "kernelspec": {
   "display_name": "python3.7",
   "language": "python",
   "name": "python3.7"
  },
  "language_info": {
   "codemirror_mode": {
    "name": "ipython",
    "version": 3
   },
   "file_extension": ".py",
   "mimetype": "text/x-python",
   "name": "python",
   "nbconvert_exporter": "python",
   "pygments_lexer": "ipython3",
   "version": "3.7.6"
  }
 },
 "nbformat": 4,
 "nbformat_minor": 4
}
